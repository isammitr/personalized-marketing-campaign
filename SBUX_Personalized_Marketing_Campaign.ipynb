{
 "cells": [
  {
   "cell_type": "markdown",
   "metadata": {},
   "source": [
    "# Personalized Marketing Campaign for Starbucks\n",
    "\n",
    "(in association with Udacity)\n",
    "\n",
    "## I. Understanding the Business\n",
    "\n",
    "**[Starbucks Corporation](https://en.wikipedia.org/wiki/Starbucks)** is an American **coffee company and coffeehouse chain**. Starbucks locations serve hot and cold drinks, whole-bean coffee, microground instant coffee known as VIA, espresso, caffe latte, full- and loose-leaf teas including Teavana tea products, Evolution Fresh juices, Frappuccino beverages, La Boulange pastries, and snacks including items such as chips and crackers; some offerings (including their annual fall launch of the Pumpkin Spice Latte) are seasonal or specific to the locality of the store. Many stores sell pre-packaged food items, hot and cold sandwiches, and drinkware including mugs and tumblers; select \"Starbucks Evenings\" locations offer beer, wine, and appetizers. Starbucks-brand coffee, ice cream, and bottled cold coffee drinks are also sold at grocery stores.\n",
    "\n",
    "### - Introduction \n",
    "\n",
    "Once every few days, Starbucks sends out an offer to users of the mobile app. An offer can be merely an advertisement for a drink or an actual offer such as a discount or BOGO (buy one get one free). Some users might not receive any offer during certain weeks. Also, not all users receive the same offer.\n",
    "\n",
    "### - Goal\n",
    "\n",
    "- Given data set is a simplified version of the real Starbucks app because the underlying simulator only has one product whereas Starbucks actually sells dozens of products. It contains simulated data that mimics customer behavior on the Starbucks rewards mobile app.\n",
    "- The **goal** is to combine transaction, demographic and offer data to determine which demographic groups respond best to which offer type.\n",
    "- So the guiding questions are - \n",
    "    1. Do people react to different promotions differently? \n",
    "        - If yes, how do people react to different promotions? \n",
    "    2. What are the factors affecting these reactions?\n",
    "\n",
    "## II. Understanding the Data\n",
    "\n",
    "The data is contained in three files:\n",
    "\n",
    "* `portfolio.json` - containing offer ids and meta data about each offer (duration, type, etc.)\n",
    "* `profile.json` - demographic data for each customer\n",
    "* `transcript.json` - records for transactions, offers received, offers viewed, and offers completed\n",
    "\n",
    "Here is the schema and explanation of each variable in the files:\n",
    "\n",
    "**Dataset 1: `portfolio.json`**\n",
    "* id (string) - offer id\n",
    "* offer_type (string) - type of offer ie BOGO, discount, informational\n",
    "* difficulty (int) - minimum required spend to complete an offer\n",
    "* reward (int) - reward given for completing an offer\n",
    "* duration (int) - time for offer to be open, in days\n",
    "* channels (list of strings)\n",
    "\n",
    "**Dataset 2: `profile.json`**\n",
    "* age (int) - age of the customer \n",
    "* became_member_on (int) - date when customer created an app account\n",
    "* gender (str) - gender of the customer (note some entries contain 'O' for other rather than M or F)\n",
    "* id (str) - customer id\n",
    "* income (float) - customer's income\n",
    "\n",
    "**Dataset 3: `transcript.json`**\n",
    "* event (str) - record description (ie transaction, offer received, offer viewed, etc.)\n",
    "* person (str) - customer id\n",
    "* time (int) - time in hours since start of test. The data begins at time t=0\n",
    "* value - (dict of strings) - either an offer id or transaction amount depending on the record\n",
    "\n",
    "\n",
    "Every offer has a validity period before the offer expires. As an example, a BOGO offer might be valid for only 5 days. It is obeserved that in the data set that informational offers have a validity period even though these ads are merely providing information about a product; for example, if an informational offer has 7 days of validity, one can assume the customer is feeling the influence of the offer for 7 days after receiving the advertisement.\n",
    "\n",
    "The given transactional data shows user purchases made on the app including the timestamp of purchase and the amount of money spent on a purchase. This transactional data also has a record for each offer that a user receives as well as a record for when a user actually views the offer. There are also records for when a user completes an offer. \n",
    "\n",
    "Note as well that someone using the app might make a purchase through the app without having received an offer or seen an offer.\n",
    "\n",
    "### Example\n",
    "\n",
    "To give an example, a user could receive a discount offer buy 10 dollars get 2 off on Monday. The offer is valid for 10 days from receipt. If the customer accumulates at least 10 dollars in purchases during the validity period, the customer completes the offer.\n",
    "\n",
    "However, there are a few things to watch out for in this data set. Customers do not opt into the offers that they receive; in other words, a user can receive an offer, never actually view the offer, and still complete the offer. For example, a user might receive the \"buy 10 dollars get 2 dollars off offer\", but the user never opens the offer during the 10 day validity period. The customer spends 15 dollars during those ten days. There will be an offer completion record in the data set; however, the customer was not influenced by the offer because the customer never viewed the offer."
   ]
  },
  {
   "cell_type": "markdown",
   "metadata": {},
   "source": [
    "## III. Preparing the Data"
   ]
  },
  {
   "cell_type": "code",
   "execution_count": 1,
   "metadata": {},
   "outputs": [],
   "source": [
    "# import necessary libraries\n",
    "\n",
    "import pandas as pd\n",
    "import numpy as np\n",
    "import math\n",
    "import json\n",
    "import ast\n",
    "import datetime\n",
    "from time import time\n",
    "from itertools import chain\n",
    "\n",
    "% matplotlib inline\n",
    "\n",
    "import matplotlib.pyplot as plt\n",
    "import seaborn as sns\n",
    "\n",
    "from sklearn import preprocessing\n",
    "from sklearn import cluster\n",
    "from sklearn.cluster import KMeans\n",
    "\n",
    "from sklearn.preprocessing import MinMaxScaler\n",
    "from sklearn.model_selection import train_test_split, GridSearchCV\n",
    "from sklearn.metrics import fbeta_score\n",
    "from sklearn.metrics import accuracy_score\n",
    "\n",
    "from sklearn.linear_model import LogisticRegression\n",
    "from sklearn.neighbors import KNeighborsClassifier\n",
    "from sklearn.naive_bayes import GaussianNB\n",
    "from sklearn.ensemble import RandomForestClassifier"
   ]
  },
  {
   "cell_type": "code",
   "execution_count": 2,
   "metadata": {},
   "outputs": [],
   "source": [
    "# read in the json files\n",
    "\n",
    "portfolio = pd.read_json('data/portfolio.json', orient='records', lines=True)\n",
    "profile = pd.read_json('data/profile.json', orient='records', lines=True)\n",
    "transcript = pd.read_json('data/transcript.json', orient='records', lines=True)"
   ]
  },
  {
   "cell_type": "markdown",
   "metadata": {},
   "source": [
    "### Exploring the data:"
   ]
  },
  {
   "cell_type": "code",
   "execution_count": 3,
   "metadata": {},
   "outputs": [
    {
     "data": {
      "text/html": [
       "<div>\n",
       "<style scoped>\n",
       "    .dataframe tbody tr th:only-of-type {\n",
       "        vertical-align: middle;\n",
       "    }\n",
       "\n",
       "    .dataframe tbody tr th {\n",
       "        vertical-align: top;\n",
       "    }\n",
       "\n",
       "    .dataframe thead th {\n",
       "        text-align: right;\n",
       "    }\n",
       "</style>\n",
       "<table border=\"1\" class=\"dataframe\">\n",
       "  <thead>\n",
       "    <tr style=\"text-align: right;\">\n",
       "      <th></th>\n",
       "      <th>reward</th>\n",
       "      <th>channels</th>\n",
       "      <th>difficulty</th>\n",
       "      <th>duration</th>\n",
       "      <th>offer_type</th>\n",
       "      <th>id</th>\n",
       "    </tr>\n",
       "  </thead>\n",
       "  <tbody>\n",
       "    <tr>\n",
       "      <th>0</th>\n",
       "      <td>10</td>\n",
       "      <td>[email, mobile, social]</td>\n",
       "      <td>10</td>\n",
       "      <td>7</td>\n",
       "      <td>bogo</td>\n",
       "      <td>ae264e3637204a6fb9bb56bc8210ddfd</td>\n",
       "    </tr>\n",
       "    <tr>\n",
       "      <th>1</th>\n",
       "      <td>10</td>\n",
       "      <td>[web, email, mobile, social]</td>\n",
       "      <td>10</td>\n",
       "      <td>5</td>\n",
       "      <td>bogo</td>\n",
       "      <td>4d5c57ea9a6940dd891ad53e9dbe8da0</td>\n",
       "    </tr>\n",
       "    <tr>\n",
       "      <th>2</th>\n",
       "      <td>0</td>\n",
       "      <td>[web, email, mobile]</td>\n",
       "      <td>0</td>\n",
       "      <td>4</td>\n",
       "      <td>informational</td>\n",
       "      <td>3f207df678b143eea3cee63160fa8bed</td>\n",
       "    </tr>\n",
       "    <tr>\n",
       "      <th>3</th>\n",
       "      <td>5</td>\n",
       "      <td>[web, email, mobile]</td>\n",
       "      <td>5</td>\n",
       "      <td>7</td>\n",
       "      <td>bogo</td>\n",
       "      <td>9b98b8c7a33c4b65b9aebfe6a799e6d9</td>\n",
       "    </tr>\n",
       "    <tr>\n",
       "      <th>4</th>\n",
       "      <td>5</td>\n",
       "      <td>[web, email]</td>\n",
       "      <td>20</td>\n",
       "      <td>10</td>\n",
       "      <td>discount</td>\n",
       "      <td>0b1e1539f2cc45b7b9fa7c272da2e1d7</td>\n",
       "    </tr>\n",
       "    <tr>\n",
       "      <th>5</th>\n",
       "      <td>3</td>\n",
       "      <td>[web, email, mobile, social]</td>\n",
       "      <td>7</td>\n",
       "      <td>7</td>\n",
       "      <td>discount</td>\n",
       "      <td>2298d6c36e964ae4a3e7e9706d1fb8c2</td>\n",
       "    </tr>\n",
       "    <tr>\n",
       "      <th>6</th>\n",
       "      <td>2</td>\n",
       "      <td>[web, email, mobile, social]</td>\n",
       "      <td>10</td>\n",
       "      <td>10</td>\n",
       "      <td>discount</td>\n",
       "      <td>fafdcd668e3743c1bb461111dcafc2a4</td>\n",
       "    </tr>\n",
       "    <tr>\n",
       "      <th>7</th>\n",
       "      <td>0</td>\n",
       "      <td>[email, mobile, social]</td>\n",
       "      <td>0</td>\n",
       "      <td>3</td>\n",
       "      <td>informational</td>\n",
       "      <td>5a8bc65990b245e5a138643cd4eb9837</td>\n",
       "    </tr>\n",
       "    <tr>\n",
       "      <th>8</th>\n",
       "      <td>5</td>\n",
       "      <td>[web, email, mobile, social]</td>\n",
       "      <td>5</td>\n",
       "      <td>5</td>\n",
       "      <td>bogo</td>\n",
       "      <td>f19421c1d4aa40978ebb69ca19b0e20d</td>\n",
       "    </tr>\n",
       "    <tr>\n",
       "      <th>9</th>\n",
       "      <td>2</td>\n",
       "      <td>[web, email, mobile]</td>\n",
       "      <td>10</td>\n",
       "      <td>7</td>\n",
       "      <td>discount</td>\n",
       "      <td>2906b810c7d4411798c6938adc9daaa5</td>\n",
       "    </tr>\n",
       "  </tbody>\n",
       "</table>\n",
       "</div>"
      ],
      "text/plain": [
       "   reward                      channels  difficulty  duration     offer_type  \\\n",
       "0      10       [email, mobile, social]          10         7           bogo   \n",
       "1      10  [web, email, mobile, social]          10         5           bogo   \n",
       "2       0          [web, email, mobile]           0         4  informational   \n",
       "3       5          [web, email, mobile]           5         7           bogo   \n",
       "4       5                  [web, email]          20        10       discount   \n",
       "5       3  [web, email, mobile, social]           7         7       discount   \n",
       "6       2  [web, email, mobile, social]          10        10       discount   \n",
       "7       0       [email, mobile, social]           0         3  informational   \n",
       "8       5  [web, email, mobile, social]           5         5           bogo   \n",
       "9       2          [web, email, mobile]          10         7       discount   \n",
       "\n",
       "                                 id  \n",
       "0  ae264e3637204a6fb9bb56bc8210ddfd  \n",
       "1  4d5c57ea9a6940dd891ad53e9dbe8da0  \n",
       "2  3f207df678b143eea3cee63160fa8bed  \n",
       "3  9b98b8c7a33c4b65b9aebfe6a799e6d9  \n",
       "4  0b1e1539f2cc45b7b9fa7c272da2e1d7  \n",
       "5  2298d6c36e964ae4a3e7e9706d1fb8c2  \n",
       "6  fafdcd668e3743c1bb461111dcafc2a4  \n",
       "7  5a8bc65990b245e5a138643cd4eb9837  \n",
       "8  f19421c1d4aa40978ebb69ca19b0e20d  \n",
       "9  2906b810c7d4411798c6938adc9daaa5  "
      ]
     },
     "execution_count": 3,
     "metadata": {},
     "output_type": "execute_result"
    }
   ],
   "source": [
    "portfolio"
   ]
  },
  {
   "cell_type": "code",
   "execution_count": 4,
   "metadata": {},
   "outputs": [
    {
     "data": {
      "text/html": [
       "<div>\n",
       "<style scoped>\n",
       "    .dataframe tbody tr th:only-of-type {\n",
       "        vertical-align: middle;\n",
       "    }\n",
       "\n",
       "    .dataframe tbody tr th {\n",
       "        vertical-align: top;\n",
       "    }\n",
       "\n",
       "    .dataframe thead th {\n",
       "        text-align: right;\n",
       "    }\n",
       "</style>\n",
       "<table border=\"1\" class=\"dataframe\">\n",
       "  <thead>\n",
       "    <tr style=\"text-align: right;\">\n",
       "      <th></th>\n",
       "      <th>gender</th>\n",
       "      <th>age</th>\n",
       "      <th>id</th>\n",
       "      <th>became_member_on</th>\n",
       "      <th>income</th>\n",
       "    </tr>\n",
       "  </thead>\n",
       "  <tbody>\n",
       "    <tr>\n",
       "      <th>0</th>\n",
       "      <td>None</td>\n",
       "      <td>118</td>\n",
       "      <td>68be06ca386d4c31939f3a4f0e3dd783</td>\n",
       "      <td>20170212</td>\n",
       "      <td>NaN</td>\n",
       "    </tr>\n",
       "    <tr>\n",
       "      <th>1</th>\n",
       "      <td>F</td>\n",
       "      <td>55</td>\n",
       "      <td>0610b486422d4921ae7d2bf64640c50b</td>\n",
       "      <td>20170715</td>\n",
       "      <td>112000.0</td>\n",
       "    </tr>\n",
       "    <tr>\n",
       "      <th>2</th>\n",
       "      <td>None</td>\n",
       "      <td>118</td>\n",
       "      <td>38fe809add3b4fcf9315a9694bb96ff5</td>\n",
       "      <td>20180712</td>\n",
       "      <td>NaN</td>\n",
       "    </tr>\n",
       "    <tr>\n",
       "      <th>3</th>\n",
       "      <td>F</td>\n",
       "      <td>75</td>\n",
       "      <td>78afa995795e4d85b5d9ceeca43f5fef</td>\n",
       "      <td>20170509</td>\n",
       "      <td>100000.0</td>\n",
       "    </tr>\n",
       "    <tr>\n",
       "      <th>4</th>\n",
       "      <td>None</td>\n",
       "      <td>118</td>\n",
       "      <td>a03223e636434f42ac4c3df47e8bac43</td>\n",
       "      <td>20170804</td>\n",
       "      <td>NaN</td>\n",
       "    </tr>\n",
       "  </tbody>\n",
       "</table>\n",
       "</div>"
      ],
      "text/plain": [
       "  gender  age                                id  became_member_on    income\n",
       "0   None  118  68be06ca386d4c31939f3a4f0e3dd783          20170212       NaN\n",
       "1      F   55  0610b486422d4921ae7d2bf64640c50b          20170715  112000.0\n",
       "2   None  118  38fe809add3b4fcf9315a9694bb96ff5          20180712       NaN\n",
       "3      F   75  78afa995795e4d85b5d9ceeca43f5fef          20170509  100000.0\n",
       "4   None  118  a03223e636434f42ac4c3df47e8bac43          20170804       NaN"
      ]
     },
     "execution_count": 4,
     "metadata": {},
     "output_type": "execute_result"
    }
   ],
   "source": [
    "profile.head()"
   ]
  },
  {
   "cell_type": "code",
   "execution_count": 5,
   "metadata": {},
   "outputs": [
    {
     "data": {
      "text/html": [
       "<div>\n",
       "<style scoped>\n",
       "    .dataframe tbody tr th:only-of-type {\n",
       "        vertical-align: middle;\n",
       "    }\n",
       "\n",
       "    .dataframe tbody tr th {\n",
       "        vertical-align: top;\n",
       "    }\n",
       "\n",
       "    .dataframe thead th {\n",
       "        text-align: right;\n",
       "    }\n",
       "</style>\n",
       "<table border=\"1\" class=\"dataframe\">\n",
       "  <thead>\n",
       "    <tr style=\"text-align: right;\">\n",
       "      <th></th>\n",
       "      <th>person</th>\n",
       "      <th>event</th>\n",
       "      <th>value</th>\n",
       "      <th>time</th>\n",
       "    </tr>\n",
       "  </thead>\n",
       "  <tbody>\n",
       "    <tr>\n",
       "      <th>0</th>\n",
       "      <td>78afa995795e4d85b5d9ceeca43f5fef</td>\n",
       "      <td>offer received</td>\n",
       "      <td>{'offer id': '9b98b8c7a33c4b65b9aebfe6a799e6d9'}</td>\n",
       "      <td>0</td>\n",
       "    </tr>\n",
       "    <tr>\n",
       "      <th>1</th>\n",
       "      <td>a03223e636434f42ac4c3df47e8bac43</td>\n",
       "      <td>offer received</td>\n",
       "      <td>{'offer id': '0b1e1539f2cc45b7b9fa7c272da2e1d7'}</td>\n",
       "      <td>0</td>\n",
       "    </tr>\n",
       "    <tr>\n",
       "      <th>2</th>\n",
       "      <td>e2127556f4f64592b11af22de27a7932</td>\n",
       "      <td>offer received</td>\n",
       "      <td>{'offer id': '2906b810c7d4411798c6938adc9daaa5'}</td>\n",
       "      <td>0</td>\n",
       "    </tr>\n",
       "    <tr>\n",
       "      <th>3</th>\n",
       "      <td>8ec6ce2a7e7949b1bf142def7d0e0586</td>\n",
       "      <td>offer received</td>\n",
       "      <td>{'offer id': 'fafdcd668e3743c1bb461111dcafc2a4'}</td>\n",
       "      <td>0</td>\n",
       "    </tr>\n",
       "    <tr>\n",
       "      <th>4</th>\n",
       "      <td>68617ca6246f4fbc85e91a2a49552598</td>\n",
       "      <td>offer received</td>\n",
       "      <td>{'offer id': '4d5c57ea9a6940dd891ad53e9dbe8da0'}</td>\n",
       "      <td>0</td>\n",
       "    </tr>\n",
       "  </tbody>\n",
       "</table>\n",
       "</div>"
      ],
      "text/plain": [
       "                             person           event  \\\n",
       "0  78afa995795e4d85b5d9ceeca43f5fef  offer received   \n",
       "1  a03223e636434f42ac4c3df47e8bac43  offer received   \n",
       "2  e2127556f4f64592b11af22de27a7932  offer received   \n",
       "3  8ec6ce2a7e7949b1bf142def7d0e0586  offer received   \n",
       "4  68617ca6246f4fbc85e91a2a49552598  offer received   \n",
       "\n",
       "                                              value  time  \n",
       "0  {'offer id': '9b98b8c7a33c4b65b9aebfe6a799e6d9'}     0  \n",
       "1  {'offer id': '0b1e1539f2cc45b7b9fa7c272da2e1d7'}     0  \n",
       "2  {'offer id': '2906b810c7d4411798c6938adc9daaa5'}     0  \n",
       "3  {'offer id': 'fafdcd668e3743c1bb461111dcafc2a4'}     0  \n",
       "4  {'offer id': '4d5c57ea9a6940dd891ad53e9dbe8da0'}     0  "
      ]
     },
     "execution_count": 5,
     "metadata": {},
     "output_type": "execute_result"
    }
   ],
   "source": [
    "transcript.head()"
   ]
  },
  {
   "cell_type": "code",
   "execution_count": 6,
   "metadata": {
    "scrolled": true
   },
   "outputs": [
    {
     "name": "stdout",
     "output_type": "stream",
     "text": [
      "<class 'pandas.core.frame.DataFrame'>\n",
      "RangeIndex: 10 entries, 0 to 9\n",
      "Data columns (total 6 columns):\n",
      " #   Column      Non-Null Count  Dtype \n",
      "---  ------      --------------  ----- \n",
      " 0   reward      10 non-null     int64 \n",
      " 1   channels    10 non-null     object\n",
      " 2   difficulty  10 non-null     int64 \n",
      " 3   duration    10 non-null     int64 \n",
      " 4   offer_type  10 non-null     object\n",
      " 5   id          10 non-null     object\n",
      "dtypes: int64(3), object(3)\n",
      "memory usage: 608.0+ bytes\n"
     ]
    }
   ],
   "source": [
    "portfolio.info()"
   ]
  },
  {
   "cell_type": "code",
   "execution_count": 7,
   "metadata": {},
   "outputs": [
    {
     "name": "stdout",
     "output_type": "stream",
     "text": [
      "<class 'pandas.core.frame.DataFrame'>\n",
      "RangeIndex: 306534 entries, 0 to 306533\n",
      "Data columns (total 4 columns):\n",
      " #   Column  Non-Null Count   Dtype \n",
      "---  ------  --------------   ----- \n",
      " 0   person  306534 non-null  object\n",
      " 1   event   306534 non-null  object\n",
      " 2   value   306534 non-null  object\n",
      " 3   time    306534 non-null  int64 \n",
      "dtypes: int64(1), object(3)\n",
      "memory usage: 9.4+ MB\n"
     ]
    }
   ],
   "source": [
    "transcript.info()"
   ]
  },
  {
   "cell_type": "code",
   "execution_count": 8,
   "metadata": {},
   "outputs": [],
   "source": [
    "# rename the columns so that it would be easy later on while merging the dataframes\n",
    "\n",
    "portfolio.rename(columns={\"id\":\"offer_id\"}, inplace=True)\n",
    "profile.rename(columns={\"id\":\"customer_id\"}, inplace=True)\n",
    "transcript.rename(columns={\"person\":\"customer_id\"}, inplace=True)"
   ]
  },
  {
   "cell_type": "markdown",
   "metadata": {},
   "source": [
    "It is seen that, for the the column `value`, there are multiple spellings for the same key -> 'offer id' and 'offer_id'."
   ]
  },
  {
   "cell_type": "code",
   "execution_count": 9,
   "metadata": {},
   "outputs": [],
   "source": [
    "# so to remove the above discrepancy, below logic has been used to \n",
    "# rename the keys in each dictionary of the column `value`\n",
    "\n",
    "for i in transcript['value']:\n",
    "    try:\n",
    "        i['offer_id'] = i.pop('offer id')\n",
    "    except:\n",
    "        pass"
   ]
  },
  {
   "cell_type": "code",
   "execution_count": 10,
   "metadata": {},
   "outputs": [],
   "source": [
    "# now this dictionary is to be split into three columns, \n",
    "# amount, reward and offer_id\n",
    "# creating a new df\n",
    "\n",
    "dict_df = pd.DataFrame([ast.literal_eval(json.dumps(i)) for i in transcript.value.values])"
   ]
  },
  {
   "cell_type": "code",
   "execution_count": 11,
   "metadata": {},
   "outputs": [
    {
     "name": "stdout",
     "output_type": "stream",
     "text": [
      "<class 'pandas.core.frame.DataFrame'>\n",
      "RangeIndex: 306534 entries, 0 to 306533\n",
      "Data columns (total 3 columns):\n",
      " #   Column    Non-Null Count   Dtype  \n",
      "---  ------    --------------   -----  \n",
      " 0   offer_id  167581 non-null  object \n",
      " 1   amount    138953 non-null  float64\n",
      " 2   reward    33579 non-null   float64\n",
      "dtypes: float64(2), object(1)\n",
      "memory usage: 7.0+ MB\n"
     ]
    }
   ],
   "source": [
    "dict_df.info()"
   ]
  },
  {
   "cell_type": "code",
   "execution_count": 12,
   "metadata": {},
   "outputs": [
    {
     "data": {
      "text/html": [
       "<div>\n",
       "<style scoped>\n",
       "    .dataframe tbody tr th:only-of-type {\n",
       "        vertical-align: middle;\n",
       "    }\n",
       "\n",
       "    .dataframe tbody tr th {\n",
       "        vertical-align: top;\n",
       "    }\n",
       "\n",
       "    .dataframe thead th {\n",
       "        text-align: right;\n",
       "    }\n",
       "</style>\n",
       "<table border=\"1\" class=\"dataframe\">\n",
       "  <thead>\n",
       "    <tr style=\"text-align: right;\">\n",
       "      <th></th>\n",
       "      <th>customer_id</th>\n",
       "      <th>event</th>\n",
       "      <th>value</th>\n",
       "      <th>time</th>\n",
       "      <th>offer_id</th>\n",
       "      <th>amount</th>\n",
       "      <th>reward</th>\n",
       "    </tr>\n",
       "  </thead>\n",
       "  <tbody>\n",
       "    <tr>\n",
       "      <th>0</th>\n",
       "      <td>78afa995795e4d85b5d9ceeca43f5fef</td>\n",
       "      <td>offer received</td>\n",
       "      <td>{'offer_id': '9b98b8c7a33c4b65b9aebfe6a799e6d9'}</td>\n",
       "      <td>0</td>\n",
       "      <td>9b98b8c7a33c4b65b9aebfe6a799e6d9</td>\n",
       "      <td>NaN</td>\n",
       "      <td>NaN</td>\n",
       "    </tr>\n",
       "    <tr>\n",
       "      <th>1</th>\n",
       "      <td>a03223e636434f42ac4c3df47e8bac43</td>\n",
       "      <td>offer received</td>\n",
       "      <td>{'offer_id': '0b1e1539f2cc45b7b9fa7c272da2e1d7'}</td>\n",
       "      <td>0</td>\n",
       "      <td>0b1e1539f2cc45b7b9fa7c272da2e1d7</td>\n",
       "      <td>NaN</td>\n",
       "      <td>NaN</td>\n",
       "    </tr>\n",
       "    <tr>\n",
       "      <th>2</th>\n",
       "      <td>e2127556f4f64592b11af22de27a7932</td>\n",
       "      <td>offer received</td>\n",
       "      <td>{'offer_id': '2906b810c7d4411798c6938adc9daaa5'}</td>\n",
       "      <td>0</td>\n",
       "      <td>2906b810c7d4411798c6938adc9daaa5</td>\n",
       "      <td>NaN</td>\n",
       "      <td>NaN</td>\n",
       "    </tr>\n",
       "    <tr>\n",
       "      <th>3</th>\n",
       "      <td>8ec6ce2a7e7949b1bf142def7d0e0586</td>\n",
       "      <td>offer received</td>\n",
       "      <td>{'offer_id': 'fafdcd668e3743c1bb461111dcafc2a4'}</td>\n",
       "      <td>0</td>\n",
       "      <td>fafdcd668e3743c1bb461111dcafc2a4</td>\n",
       "      <td>NaN</td>\n",
       "      <td>NaN</td>\n",
       "    </tr>\n",
       "    <tr>\n",
       "      <th>4</th>\n",
       "      <td>68617ca6246f4fbc85e91a2a49552598</td>\n",
       "      <td>offer received</td>\n",
       "      <td>{'offer_id': '4d5c57ea9a6940dd891ad53e9dbe8da0'}</td>\n",
       "      <td>0</td>\n",
       "      <td>4d5c57ea9a6940dd891ad53e9dbe8da0</td>\n",
       "      <td>NaN</td>\n",
       "      <td>NaN</td>\n",
       "    </tr>\n",
       "  </tbody>\n",
       "</table>\n",
       "</div>"
      ],
      "text/plain": [
       "                        customer_id           event  \\\n",
       "0  78afa995795e4d85b5d9ceeca43f5fef  offer received   \n",
       "1  a03223e636434f42ac4c3df47e8bac43  offer received   \n",
       "2  e2127556f4f64592b11af22de27a7932  offer received   \n",
       "3  8ec6ce2a7e7949b1bf142def7d0e0586  offer received   \n",
       "4  68617ca6246f4fbc85e91a2a49552598  offer received   \n",
       "\n",
       "                                              value  time  \\\n",
       "0  {'offer_id': '9b98b8c7a33c4b65b9aebfe6a799e6d9'}     0   \n",
       "1  {'offer_id': '0b1e1539f2cc45b7b9fa7c272da2e1d7'}     0   \n",
       "2  {'offer_id': '2906b810c7d4411798c6938adc9daaa5'}     0   \n",
       "3  {'offer_id': 'fafdcd668e3743c1bb461111dcafc2a4'}     0   \n",
       "4  {'offer_id': '4d5c57ea9a6940dd891ad53e9dbe8da0'}     0   \n",
       "\n",
       "                           offer_id  amount  reward  \n",
       "0  9b98b8c7a33c4b65b9aebfe6a799e6d9     NaN     NaN  \n",
       "1  0b1e1539f2cc45b7b9fa7c272da2e1d7     NaN     NaN  \n",
       "2  2906b810c7d4411798c6938adc9daaa5     NaN     NaN  \n",
       "3  fafdcd668e3743c1bb461111dcafc2a4     NaN     NaN  \n",
       "4  4d5c57ea9a6940dd891ad53e9dbe8da0     NaN     NaN  "
      ]
     },
     "execution_count": 12,
     "metadata": {},
     "output_type": "execute_result"
    }
   ],
   "source": [
    "# concatenating the earlier created df to the original dataframe\n",
    "\n",
    "transcript = pd.concat([transcript, dict_df], 1)\n",
    "transcript.head()"
   ]
  },
  {
   "cell_type": "code",
   "execution_count": 13,
   "metadata": {},
   "outputs": [],
   "source": [
    "# drop the original column of dictionaries as it is no longer required\n",
    "\n",
    "del transcript['value']"
   ]
  },
  {
   "cell_type": "code",
   "execution_count": 14,
   "metadata": {},
   "outputs": [
    {
     "name": "stdout",
     "output_type": "stream",
     "text": [
      "Number of Unique Customer Profiles: 17000\n",
      "Number of Unique Customer Profiles in `transcript` df: 17000\n"
     ]
    }
   ],
   "source": [
    "print(\"Number of Unique Customer Profiles:\", profile.customer_id.nunique())\n",
    "\n",
    "# finding the intersection\n",
    "print(\"Number of Unique Customer Profiles in `transcript` df:\",\n",
    "      len(set(transcript.customer_id).intersection(set(profile.customer_id))))"
   ]
  },
  {
   "cell_type": "markdown",
   "metadata": {},
   "source": [
    "#### The above intersection shows that **all the customer profiles are present** in the `transactions` dataframe."
   ]
  },
  {
   "cell_type": "code",
   "execution_count": 15,
   "metadata": {},
   "outputs": [
    {
     "name": "stdout",
     "output_type": "stream",
     "text": [
      "65404.9915682968\n",
      "64000.0\n"
     ]
    }
   ],
   "source": [
    "print(profile['income'].mean())\n",
    "print(profile['income'].median())"
   ]
  },
  {
   "cell_type": "code",
   "execution_count": 16,
   "metadata": {},
   "outputs": [],
   "source": [
    "# fill the unknown or missing values in gender column as NA -> not available\n",
    "profile['gender'].fillna('NA', inplace=True)\n",
    "\n",
    "# in this data, mean is higher than median, so to balance out, \n",
    "# I will fill the NaNs with median instead of mean\n",
    "\n",
    "# fill the unknown or missing values in income column with the median\n",
    "profile['income'].fillna((profile['income'].median()), inplace=True)"
   ]
  },
  {
   "cell_type": "code",
   "execution_count": 17,
   "metadata": {},
   "outputs": [
    {
     "name": "stdout",
     "output_type": "stream",
     "text": [
      "<class 'pandas.core.frame.DataFrame'>\n",
      "RangeIndex: 17000 entries, 0 to 16999\n",
      "Data columns (total 5 columns):\n",
      " #   Column            Non-Null Count  Dtype  \n",
      "---  ------            --------------  -----  \n",
      " 0   gender            17000 non-null  object \n",
      " 1   age               17000 non-null  int64  \n",
      " 2   customer_id       17000 non-null  object \n",
      " 3   became_member_on  17000 non-null  int64  \n",
      " 4   income            17000 non-null  float64\n",
      "dtypes: float64(1), int64(2), object(2)\n",
      "memory usage: 664.2+ KB\n"
     ]
    }
   ],
   "source": [
    "profile.info()"
   ]
  },
  {
   "cell_type": "code",
   "execution_count": 18,
   "metadata": {},
   "outputs": [],
   "source": [
    "# Converting became_member_on to an actual date number and also creating more\n",
    "# columns based on the year, month, day for further analysis\n",
    "\n",
    "profile['member_year'] = profile.became_member_on.apply(lambda x: int(str(x)[:4]))\n",
    "profile['member_month'] = profile.became_member_on.apply(lambda x: int(str(x)[4:6]))\n",
    "profile['member_day'] = profile.became_member_on.apply(lambda x: int(str(x)[6:]))\n",
    "profile['member_date'] = profile.became_member_on.apply(lambda x: datetime.datetime.strptime(str(x), '%Y%m%d'))\n",
    "profile.drop('became_member_on', axis = 1, inplace = True)"
   ]
  },
  {
   "cell_type": "code",
   "execution_count": 19,
   "metadata": {
    "scrolled": true
   },
   "outputs": [],
   "source": [
    "# merge the transcript and profile dataframes on customer_id column\n",
    "transcript = transcript.merge(profile, on=['customer_id'])"
   ]
  },
  {
   "cell_type": "code",
   "execution_count": 20,
   "metadata": {
    "scrolled": true
   },
   "outputs": [
    {
     "name": "stdout",
     "output_type": "stream",
     "text": [
      "<class 'pandas.core.frame.DataFrame'>\n",
      "Int64Index: 306534 entries, 0 to 306533\n",
      "Data columns (total 13 columns):\n",
      " #   Column        Non-Null Count   Dtype         \n",
      "---  ------        --------------   -----         \n",
      " 0   customer_id   306534 non-null  object        \n",
      " 1   event         306534 non-null  object        \n",
      " 2   time          306534 non-null  int64         \n",
      " 3   offer_id      167581 non-null  object        \n",
      " 4   amount        138953 non-null  float64       \n",
      " 5   reward        33579 non-null   float64       \n",
      " 6   gender        306534 non-null  object        \n",
      " 7   age           306534 non-null  int64         \n",
      " 8   income        306534 non-null  float64       \n",
      " 9   member_year   306534 non-null  int64         \n",
      " 10  member_month  306534 non-null  int64         \n",
      " 11  member_day    306534 non-null  int64         \n",
      " 12  member_date   306534 non-null  datetime64[ns]\n",
      "dtypes: datetime64[ns](1), float64(3), int64(5), object(4)\n",
      "memory usage: 32.7+ MB\n"
     ]
    }
   ],
   "source": [
    "transcript.info()"
   ]
  },
  {
   "cell_type": "code",
   "execution_count": 21,
   "metadata": {
    "scrolled": true
   },
   "outputs": [
    {
     "name": "stdout",
     "output_type": "stream",
     "text": [
      "<class 'pandas.core.frame.DataFrame'>\n",
      "RangeIndex: 10 entries, 0 to 9\n",
      "Data columns (total 6 columns):\n",
      " #   Column      Non-Null Count  Dtype \n",
      "---  ------      --------------  ----- \n",
      " 0   reward      10 non-null     int64 \n",
      " 1   channels    10 non-null     object\n",
      " 2   difficulty  10 non-null     int64 \n",
      " 3   duration    10 non-null     int64 \n",
      " 4   offer_type  10 non-null     object\n",
      " 5   offer_id    10 non-null     object\n",
      "dtypes: int64(3), object(3)\n",
      "memory usage: 608.0+ bytes\n"
     ]
    }
   ],
   "source": [
    "portfolio.info()"
   ]
  },
  {
   "cell_type": "code",
   "execution_count": 22,
   "metadata": {},
   "outputs": [],
   "source": [
    "#extract all channels names \n",
    "channels_set = set()\n",
    "for i in portfolio.channels:\n",
    "    channels_set.update(set(i))\n",
    "# split the channel into different attribute\n",
    "for i in channels_set:\n",
    "    portfolio[i] = portfolio.channels.apply(lambda x: i in x).map({True:1, False: 0})\n",
    "\n",
    "# Now drop the 'channels' column \n",
    "portfolio.drop('channels', axis=1, inplace=True)"
   ]
  },
  {
   "cell_type": "code",
   "execution_count": 23,
   "metadata": {},
   "outputs": [],
   "source": [
    "portfolio.email.fillna(0, inplace=True)\n",
    "portfolio.social.fillna(0, inplace=True)\n",
    "portfolio.web.fillna(0, inplace=True)\n",
    "portfolio.mobile.fillna(0, inplace=True)"
   ]
  },
  {
   "cell_type": "code",
   "execution_count": 24,
   "metadata": {},
   "outputs": [],
   "source": [
    "# use left join to merge the transcript and portfolio dataframes on customer_id column\n",
    "# left join is used because I want to preserve all the offer_ids in the transcript column\n",
    "transcript = transcript.merge(portfolio, on=['offer_id'], how='left')"
   ]
  },
  {
   "cell_type": "code",
   "execution_count": 25,
   "metadata": {
    "scrolled": true
   },
   "outputs": [
    {
     "name": "stdout",
     "output_type": "stream",
     "text": [
      "<class 'pandas.core.frame.DataFrame'>\n",
      "Int64Index: 306534 entries, 0 to 306533\n",
      "Data columns (total 21 columns):\n",
      " #   Column        Non-Null Count   Dtype         \n",
      "---  ------        --------------   -----         \n",
      " 0   customer_id   306534 non-null  object        \n",
      " 1   event         306534 non-null  object        \n",
      " 2   time          306534 non-null  int64         \n",
      " 3   offer_id      167581 non-null  object        \n",
      " 4   amount        138953 non-null  float64       \n",
      " 5   reward_x      33579 non-null   float64       \n",
      " 6   gender        306534 non-null  object        \n",
      " 7   age           306534 non-null  int64         \n",
      " 8   income        306534 non-null  float64       \n",
      " 9   member_year   306534 non-null  int64         \n",
      " 10  member_month  306534 non-null  int64         \n",
      " 11  member_day    306534 non-null  int64         \n",
      " 12  member_date   306534 non-null  datetime64[ns]\n",
      " 13  reward_y      167581 non-null  float64       \n",
      " 14  difficulty    167581 non-null  float64       \n",
      " 15  duration      167581 non-null  float64       \n",
      " 16  offer_type    167581 non-null  object        \n",
      " 17  email         167581 non-null  float64       \n",
      " 18  mobile        167581 non-null  float64       \n",
      " 19  social        167581 non-null  float64       \n",
      " 20  web           167581 non-null  float64       \n",
      "dtypes: datetime64[ns](1), float64(10), int64(5), object(5)\n",
      "memory usage: 51.5+ MB\n"
     ]
    }
   ],
   "source": [
    "transcript.info()"
   ]
  },
  {
   "cell_type": "code",
   "execution_count": 26,
   "metadata": {
    "scrolled": true
   },
   "outputs": [
    {
     "data": {
      "text/html": [
       "<div>\n",
       "<style scoped>\n",
       "    .dataframe tbody tr th:only-of-type {\n",
       "        vertical-align: middle;\n",
       "    }\n",
       "\n",
       "    .dataframe tbody tr th {\n",
       "        vertical-align: top;\n",
       "    }\n",
       "\n",
       "    .dataframe thead th {\n",
       "        text-align: right;\n",
       "    }\n",
       "</style>\n",
       "<table border=\"1\" class=\"dataframe\">\n",
       "  <thead>\n",
       "    <tr style=\"text-align: right;\">\n",
       "      <th></th>\n",
       "      <th>customer_id</th>\n",
       "      <th>event</th>\n",
       "      <th>time</th>\n",
       "      <th>offer_id</th>\n",
       "      <th>amount</th>\n",
       "      <th>reward_x</th>\n",
       "      <th>gender</th>\n",
       "      <th>age</th>\n",
       "      <th>income</th>\n",
       "      <th>member_year</th>\n",
       "      <th>...</th>\n",
       "      <th>member_day</th>\n",
       "      <th>member_date</th>\n",
       "      <th>reward_y</th>\n",
       "      <th>difficulty</th>\n",
       "      <th>duration</th>\n",
       "      <th>offer_type</th>\n",
       "      <th>email</th>\n",
       "      <th>mobile</th>\n",
       "      <th>social</th>\n",
       "      <th>web</th>\n",
       "    </tr>\n",
       "  </thead>\n",
       "  <tbody>\n",
       "    <tr>\n",
       "      <th>0</th>\n",
       "      <td>78afa995795e4d85b5d9ceeca43f5fef</td>\n",
       "      <td>offer received</td>\n",
       "      <td>0</td>\n",
       "      <td>9b98b8c7a33c4b65b9aebfe6a799e6d9</td>\n",
       "      <td>NaN</td>\n",
       "      <td>NaN</td>\n",
       "      <td>F</td>\n",
       "      <td>75</td>\n",
       "      <td>100000.0</td>\n",
       "      <td>2017</td>\n",
       "      <td>...</td>\n",
       "      <td>9</td>\n",
       "      <td>2017-05-09</td>\n",
       "      <td>5.0</td>\n",
       "      <td>5.0</td>\n",
       "      <td>7.0</td>\n",
       "      <td>bogo</td>\n",
       "      <td>1.0</td>\n",
       "      <td>1.0</td>\n",
       "      <td>0.0</td>\n",
       "      <td>1.0</td>\n",
       "    </tr>\n",
       "    <tr>\n",
       "      <th>1</th>\n",
       "      <td>78afa995795e4d85b5d9ceeca43f5fef</td>\n",
       "      <td>offer viewed</td>\n",
       "      <td>6</td>\n",
       "      <td>9b98b8c7a33c4b65b9aebfe6a799e6d9</td>\n",
       "      <td>NaN</td>\n",
       "      <td>NaN</td>\n",
       "      <td>F</td>\n",
       "      <td>75</td>\n",
       "      <td>100000.0</td>\n",
       "      <td>2017</td>\n",
       "      <td>...</td>\n",
       "      <td>9</td>\n",
       "      <td>2017-05-09</td>\n",
       "      <td>5.0</td>\n",
       "      <td>5.0</td>\n",
       "      <td>7.0</td>\n",
       "      <td>bogo</td>\n",
       "      <td>1.0</td>\n",
       "      <td>1.0</td>\n",
       "      <td>0.0</td>\n",
       "      <td>1.0</td>\n",
       "    </tr>\n",
       "    <tr>\n",
       "      <th>2</th>\n",
       "      <td>78afa995795e4d85b5d9ceeca43f5fef</td>\n",
       "      <td>transaction</td>\n",
       "      <td>132</td>\n",
       "      <td>NaN</td>\n",
       "      <td>19.89</td>\n",
       "      <td>NaN</td>\n",
       "      <td>F</td>\n",
       "      <td>75</td>\n",
       "      <td>100000.0</td>\n",
       "      <td>2017</td>\n",
       "      <td>...</td>\n",
       "      <td>9</td>\n",
       "      <td>2017-05-09</td>\n",
       "      <td>NaN</td>\n",
       "      <td>NaN</td>\n",
       "      <td>NaN</td>\n",
       "      <td>NaN</td>\n",
       "      <td>NaN</td>\n",
       "      <td>NaN</td>\n",
       "      <td>NaN</td>\n",
       "      <td>NaN</td>\n",
       "    </tr>\n",
       "    <tr>\n",
       "      <th>3</th>\n",
       "      <td>78afa995795e4d85b5d9ceeca43f5fef</td>\n",
       "      <td>offer completed</td>\n",
       "      <td>132</td>\n",
       "      <td>9b98b8c7a33c4b65b9aebfe6a799e6d9</td>\n",
       "      <td>NaN</td>\n",
       "      <td>5.0</td>\n",
       "      <td>F</td>\n",
       "      <td>75</td>\n",
       "      <td>100000.0</td>\n",
       "      <td>2017</td>\n",
       "      <td>...</td>\n",
       "      <td>9</td>\n",
       "      <td>2017-05-09</td>\n",
       "      <td>5.0</td>\n",
       "      <td>5.0</td>\n",
       "      <td>7.0</td>\n",
       "      <td>bogo</td>\n",
       "      <td>1.0</td>\n",
       "      <td>1.0</td>\n",
       "      <td>0.0</td>\n",
       "      <td>1.0</td>\n",
       "    </tr>\n",
       "    <tr>\n",
       "      <th>4</th>\n",
       "      <td>78afa995795e4d85b5d9ceeca43f5fef</td>\n",
       "      <td>transaction</td>\n",
       "      <td>144</td>\n",
       "      <td>NaN</td>\n",
       "      <td>17.78</td>\n",
       "      <td>NaN</td>\n",
       "      <td>F</td>\n",
       "      <td>75</td>\n",
       "      <td>100000.0</td>\n",
       "      <td>2017</td>\n",
       "      <td>...</td>\n",
       "      <td>9</td>\n",
       "      <td>2017-05-09</td>\n",
       "      <td>NaN</td>\n",
       "      <td>NaN</td>\n",
       "      <td>NaN</td>\n",
       "      <td>NaN</td>\n",
       "      <td>NaN</td>\n",
       "      <td>NaN</td>\n",
       "      <td>NaN</td>\n",
       "      <td>NaN</td>\n",
       "    </tr>\n",
       "    <tr>\n",
       "      <th>...</th>\n",
       "      <td>...</td>\n",
       "      <td>...</td>\n",
       "      <td>...</td>\n",
       "      <td>...</td>\n",
       "      <td>...</td>\n",
       "      <td>...</td>\n",
       "      <td>...</td>\n",
       "      <td>...</td>\n",
       "      <td>...</td>\n",
       "      <td>...</td>\n",
       "      <td>...</td>\n",
       "      <td>...</td>\n",
       "      <td>...</td>\n",
       "      <td>...</td>\n",
       "      <td>...</td>\n",
       "      <td>...</td>\n",
       "      <td>...</td>\n",
       "      <td>...</td>\n",
       "      <td>...</td>\n",
       "      <td>...</td>\n",
       "      <td>...</td>\n",
       "    </tr>\n",
       "    <tr>\n",
       "      <th>306529</th>\n",
       "      <td>912b9f623b9e4b4eb99b6dc919f09a93</td>\n",
       "      <td>offer received</td>\n",
       "      <td>576</td>\n",
       "      <td>4d5c57ea9a6940dd891ad53e9dbe8da0</td>\n",
       "      <td>NaN</td>\n",
       "      <td>NaN</td>\n",
       "      <td>NA</td>\n",
       "      <td>118</td>\n",
       "      <td>64000.0</td>\n",
       "      <td>2017</td>\n",
       "      <td>...</td>\n",
       "      <td>26</td>\n",
       "      <td>2017-09-26</td>\n",
       "      <td>10.0</td>\n",
       "      <td>10.0</td>\n",
       "      <td>5.0</td>\n",
       "      <td>bogo</td>\n",
       "      <td>1.0</td>\n",
       "      <td>1.0</td>\n",
       "      <td>1.0</td>\n",
       "      <td>1.0</td>\n",
       "    </tr>\n",
       "    <tr>\n",
       "      <th>306530</th>\n",
       "      <td>912b9f623b9e4b4eb99b6dc919f09a93</td>\n",
       "      <td>offer viewed</td>\n",
       "      <td>594</td>\n",
       "      <td>4d5c57ea9a6940dd891ad53e9dbe8da0</td>\n",
       "      <td>NaN</td>\n",
       "      <td>NaN</td>\n",
       "      <td>NA</td>\n",
       "      <td>118</td>\n",
       "      <td>64000.0</td>\n",
       "      <td>2017</td>\n",
       "      <td>...</td>\n",
       "      <td>26</td>\n",
       "      <td>2017-09-26</td>\n",
       "      <td>10.0</td>\n",
       "      <td>10.0</td>\n",
       "      <td>5.0</td>\n",
       "      <td>bogo</td>\n",
       "      <td>1.0</td>\n",
       "      <td>1.0</td>\n",
       "      <td>1.0</td>\n",
       "      <td>1.0</td>\n",
       "    </tr>\n",
       "    <tr>\n",
       "      <th>306531</th>\n",
       "      <td>3045af4e98794a04a5542d3eac939b1f</td>\n",
       "      <td>offer received</td>\n",
       "      <td>576</td>\n",
       "      <td>4d5c57ea9a6940dd891ad53e9dbe8da0</td>\n",
       "      <td>NaN</td>\n",
       "      <td>NaN</td>\n",
       "      <td>F</td>\n",
       "      <td>58</td>\n",
       "      <td>78000.0</td>\n",
       "      <td>2016</td>\n",
       "      <td>...</td>\n",
       "      <td>20</td>\n",
       "      <td>2016-10-20</td>\n",
       "      <td>10.0</td>\n",
       "      <td>10.0</td>\n",
       "      <td>5.0</td>\n",
       "      <td>bogo</td>\n",
       "      <td>1.0</td>\n",
       "      <td>1.0</td>\n",
       "      <td>1.0</td>\n",
       "      <td>1.0</td>\n",
       "    </tr>\n",
       "    <tr>\n",
       "      <th>306532</th>\n",
       "      <td>3045af4e98794a04a5542d3eac939b1f</td>\n",
       "      <td>offer viewed</td>\n",
       "      <td>576</td>\n",
       "      <td>4d5c57ea9a6940dd891ad53e9dbe8da0</td>\n",
       "      <td>NaN</td>\n",
       "      <td>NaN</td>\n",
       "      <td>F</td>\n",
       "      <td>58</td>\n",
       "      <td>78000.0</td>\n",
       "      <td>2016</td>\n",
       "      <td>...</td>\n",
       "      <td>20</td>\n",
       "      <td>2016-10-20</td>\n",
       "      <td>10.0</td>\n",
       "      <td>10.0</td>\n",
       "      <td>5.0</td>\n",
       "      <td>bogo</td>\n",
       "      <td>1.0</td>\n",
       "      <td>1.0</td>\n",
       "      <td>1.0</td>\n",
       "      <td>1.0</td>\n",
       "    </tr>\n",
       "    <tr>\n",
       "      <th>306533</th>\n",
       "      <td>da7a7c0dcfcb41a8acc7864a53cf60fb</td>\n",
       "      <td>transaction</td>\n",
       "      <td>582</td>\n",
       "      <td>NaN</td>\n",
       "      <td>0.35</td>\n",
       "      <td>NaN</td>\n",
       "      <td>NA</td>\n",
       "      <td>118</td>\n",
       "      <td>64000.0</td>\n",
       "      <td>2017</td>\n",
       "      <td>...</td>\n",
       "      <td>1</td>\n",
       "      <td>2017-08-01</td>\n",
       "      <td>NaN</td>\n",
       "      <td>NaN</td>\n",
       "      <td>NaN</td>\n",
       "      <td>NaN</td>\n",
       "      <td>NaN</td>\n",
       "      <td>NaN</td>\n",
       "      <td>NaN</td>\n",
       "      <td>NaN</td>\n",
       "    </tr>\n",
       "  </tbody>\n",
       "</table>\n",
       "<p>306534 rows × 21 columns</p>\n",
       "</div>"
      ],
      "text/plain": [
       "                             customer_id            event  time  \\\n",
       "0       78afa995795e4d85b5d9ceeca43f5fef   offer received     0   \n",
       "1       78afa995795e4d85b5d9ceeca43f5fef     offer viewed     6   \n",
       "2       78afa995795e4d85b5d9ceeca43f5fef      transaction   132   \n",
       "3       78afa995795e4d85b5d9ceeca43f5fef  offer completed   132   \n",
       "4       78afa995795e4d85b5d9ceeca43f5fef      transaction   144   \n",
       "...                                  ...              ...   ...   \n",
       "306529  912b9f623b9e4b4eb99b6dc919f09a93   offer received   576   \n",
       "306530  912b9f623b9e4b4eb99b6dc919f09a93     offer viewed   594   \n",
       "306531  3045af4e98794a04a5542d3eac939b1f   offer received   576   \n",
       "306532  3045af4e98794a04a5542d3eac939b1f     offer viewed   576   \n",
       "306533  da7a7c0dcfcb41a8acc7864a53cf60fb      transaction   582   \n",
       "\n",
       "                                offer_id  amount  reward_x gender  age  \\\n",
       "0       9b98b8c7a33c4b65b9aebfe6a799e6d9     NaN       NaN      F   75   \n",
       "1       9b98b8c7a33c4b65b9aebfe6a799e6d9     NaN       NaN      F   75   \n",
       "2                                    NaN   19.89       NaN      F   75   \n",
       "3       9b98b8c7a33c4b65b9aebfe6a799e6d9     NaN       5.0      F   75   \n",
       "4                                    NaN   17.78       NaN      F   75   \n",
       "...                                  ...     ...       ...    ...  ...   \n",
       "306529  4d5c57ea9a6940dd891ad53e9dbe8da0     NaN       NaN     NA  118   \n",
       "306530  4d5c57ea9a6940dd891ad53e9dbe8da0     NaN       NaN     NA  118   \n",
       "306531  4d5c57ea9a6940dd891ad53e9dbe8da0     NaN       NaN      F   58   \n",
       "306532  4d5c57ea9a6940dd891ad53e9dbe8da0     NaN       NaN      F   58   \n",
       "306533                               NaN    0.35       NaN     NA  118   \n",
       "\n",
       "          income  member_year  ...  member_day  member_date reward_y  \\\n",
       "0       100000.0         2017  ...           9   2017-05-09      5.0   \n",
       "1       100000.0         2017  ...           9   2017-05-09      5.0   \n",
       "2       100000.0         2017  ...           9   2017-05-09      NaN   \n",
       "3       100000.0         2017  ...           9   2017-05-09      5.0   \n",
       "4       100000.0         2017  ...           9   2017-05-09      NaN   \n",
       "...          ...          ...  ...         ...          ...      ...   \n",
       "306529   64000.0         2017  ...          26   2017-09-26     10.0   \n",
       "306530   64000.0         2017  ...          26   2017-09-26     10.0   \n",
       "306531   78000.0         2016  ...          20   2016-10-20     10.0   \n",
       "306532   78000.0         2016  ...          20   2016-10-20     10.0   \n",
       "306533   64000.0         2017  ...           1   2017-08-01      NaN   \n",
       "\n",
       "        difficulty  duration  offer_type email  mobile  social  web  \n",
       "0              5.0       7.0        bogo   1.0     1.0     0.0  1.0  \n",
       "1              5.0       7.0        bogo   1.0     1.0     0.0  1.0  \n",
       "2              NaN       NaN         NaN   NaN     NaN     NaN  NaN  \n",
       "3              5.0       7.0        bogo   1.0     1.0     0.0  1.0  \n",
       "4              NaN       NaN         NaN   NaN     NaN     NaN  NaN  \n",
       "...            ...       ...         ...   ...     ...     ...  ...  \n",
       "306529        10.0       5.0        bogo   1.0     1.0     1.0  1.0  \n",
       "306530        10.0       5.0        bogo   1.0     1.0     1.0  1.0  \n",
       "306531        10.0       5.0        bogo   1.0     1.0     1.0  1.0  \n",
       "306532        10.0       5.0        bogo   1.0     1.0     1.0  1.0  \n",
       "306533         NaN       NaN         NaN   NaN     NaN     NaN  NaN  \n",
       "\n",
       "[306534 rows x 21 columns]"
      ]
     },
     "execution_count": 26,
     "metadata": {},
     "output_type": "execute_result"
    }
   ],
   "source": [
    "transcript"
   ]
  },
  {
   "cell_type": "code",
   "execution_count": 27,
   "metadata": {
    "scrolled": true
   },
   "outputs": [
    {
     "data": {
      "text/plain": [
       "LabelEncoder()"
      ]
     },
     "execution_count": 27,
     "metadata": {},
     "output_type": "execute_result"
    }
   ],
   "source": [
    "def id_mapper(col_name):\n",
    "    \"\"\"\n",
    "    INPUT: \n",
    "    col_name (str): name of the column whose values are to be changed\n",
    "    \n",
    "    OUTPUT:\n",
    "    id_encoded (list): list of the mapped integers for each value\n",
    "    \n",
    "    Description:\n",
    "    This function will map integers to such '912b9f623b9e4b4eb99b6dc919f09a93' long values. \n",
    "    \"\"\"\n",
    "    coded_dict = dict()\n",
    "    cter = 1\n",
    "    col_name=str(col_name)\n",
    "    id_encoded = []\n",
    "    \n",
    "    for val in transcript[col_name]:\n",
    "        try: \n",
    "            if isinstance(val, str):\n",
    "                if val not in coded_dict:\n",
    "                    coded_dict[val] = cter\n",
    "                    cter+=1\n",
    "\n",
    "                id_encoded.append(coded_dict[val])\n",
    "            else:\n",
    "                coded_dict[val] = np.nan\n",
    "                id_encoded.append(coded_dict[val])\n",
    "        except:\n",
    "            pass\n",
    "    del transcript[col_name]\n",
    "    return id_encoded\n",
    "\n",
    "# using label encoding for offer_id (10 different IDs)\n",
    "le1 = preprocessing.LabelEncoder()\n",
    "le1.fit(portfolio.offer_id)\n",
    "\n",
    "# using label encoding for offer_type (3 different types, bogo-discount-informational)\n",
    "le2 = preprocessing.LabelEncoder()\n",
    "le2.fit(portfolio.offer_type)\n",
    "\n",
    "# using label encoding for gender (4 different types, male-female-other-notavailable)\n",
    "le3 = preprocessing.LabelEncoder()\n",
    "le3.fit(profile.gender)"
   ]
  },
  {
   "cell_type": "code",
   "execution_count": 28,
   "metadata": {},
   "outputs": [],
   "source": [
    "transcript['customer_id'] = id_mapper(col_name='customer_id')"
   ]
  },
  {
   "cell_type": "code",
   "execution_count": 29,
   "metadata": {
    "scrolled": false
   },
   "outputs": [],
   "source": [
    "transcript['offer_id'] = le1.fit_transform(transcript['offer_id'].astype(str))"
   ]
  },
  {
   "cell_type": "code",
   "execution_count": 30,
   "metadata": {},
   "outputs": [],
   "source": [
    "transcript['offer_type'] = le2.fit_transform(transcript['offer_type'].astype(str))"
   ]
  },
  {
   "cell_type": "code",
   "execution_count": 31,
   "metadata": {
    "scrolled": true
   },
   "outputs": [],
   "source": [
    "transcript['gender'] = le3.fit_transform(transcript['gender'].astype(str))"
   ]
  },
  {
   "cell_type": "code",
   "execution_count": 32,
   "metadata": {},
   "outputs": [],
   "source": [
    "# using one hot encoding for the column `event`\n",
    "transcript = pd.get_dummies(transcript, columns=['event'])"
   ]
  },
  {
   "cell_type": "code",
   "execution_count": 33,
   "metadata": {
    "scrolled": true
   },
   "outputs": [
    {
     "data": {
      "text/html": [
       "<div>\n",
       "<style scoped>\n",
       "    .dataframe tbody tr th:only-of-type {\n",
       "        vertical-align: middle;\n",
       "    }\n",
       "\n",
       "    .dataframe tbody tr th {\n",
       "        vertical-align: top;\n",
       "    }\n",
       "\n",
       "    .dataframe thead th {\n",
       "        text-align: right;\n",
       "    }\n",
       "</style>\n",
       "<table border=\"1\" class=\"dataframe\">\n",
       "  <thead>\n",
       "    <tr style=\"text-align: right;\">\n",
       "      <th></th>\n",
       "      <th>time</th>\n",
       "      <th>offer_id</th>\n",
       "      <th>amount</th>\n",
       "      <th>reward_x</th>\n",
       "      <th>gender</th>\n",
       "      <th>age</th>\n",
       "      <th>income</th>\n",
       "      <th>member_year</th>\n",
       "      <th>member_month</th>\n",
       "      <th>member_day</th>\n",
       "      <th>...</th>\n",
       "      <th>offer_type</th>\n",
       "      <th>email</th>\n",
       "      <th>mobile</th>\n",
       "      <th>social</th>\n",
       "      <th>web</th>\n",
       "      <th>customer_id</th>\n",
       "      <th>event_offer completed</th>\n",
       "      <th>event_offer received</th>\n",
       "      <th>event_offer viewed</th>\n",
       "      <th>event_transaction</th>\n",
       "    </tr>\n",
       "  </thead>\n",
       "  <tbody>\n",
       "    <tr>\n",
       "      <th>0</th>\n",
       "      <td>0</td>\n",
       "      <td>6</td>\n",
       "      <td>NaN</td>\n",
       "      <td>NaN</td>\n",
       "      <td>0</td>\n",
       "      <td>75</td>\n",
       "      <td>100000.0</td>\n",
       "      <td>2017</td>\n",
       "      <td>5</td>\n",
       "      <td>9</td>\n",
       "      <td>...</td>\n",
       "      <td>0</td>\n",
       "      <td>1.0</td>\n",
       "      <td>1.0</td>\n",
       "      <td>0.0</td>\n",
       "      <td>1.0</td>\n",
       "      <td>1</td>\n",
       "      <td>0</td>\n",
       "      <td>1</td>\n",
       "      <td>0</td>\n",
       "      <td>0</td>\n",
       "    </tr>\n",
       "    <tr>\n",
       "      <th>1</th>\n",
       "      <td>6</td>\n",
       "      <td>6</td>\n",
       "      <td>NaN</td>\n",
       "      <td>NaN</td>\n",
       "      <td>0</td>\n",
       "      <td>75</td>\n",
       "      <td>100000.0</td>\n",
       "      <td>2017</td>\n",
       "      <td>5</td>\n",
       "      <td>9</td>\n",
       "      <td>...</td>\n",
       "      <td>0</td>\n",
       "      <td>1.0</td>\n",
       "      <td>1.0</td>\n",
       "      <td>0.0</td>\n",
       "      <td>1.0</td>\n",
       "      <td>1</td>\n",
       "      <td>0</td>\n",
       "      <td>0</td>\n",
       "      <td>1</td>\n",
       "      <td>0</td>\n",
       "    </tr>\n",
       "    <tr>\n",
       "      <th>2</th>\n",
       "      <td>132</td>\n",
       "      <td>10</td>\n",
       "      <td>19.89</td>\n",
       "      <td>NaN</td>\n",
       "      <td>0</td>\n",
       "      <td>75</td>\n",
       "      <td>100000.0</td>\n",
       "      <td>2017</td>\n",
       "      <td>5</td>\n",
       "      <td>9</td>\n",
       "      <td>...</td>\n",
       "      <td>3</td>\n",
       "      <td>NaN</td>\n",
       "      <td>NaN</td>\n",
       "      <td>NaN</td>\n",
       "      <td>NaN</td>\n",
       "      <td>1</td>\n",
       "      <td>0</td>\n",
       "      <td>0</td>\n",
       "      <td>0</td>\n",
       "      <td>1</td>\n",
       "    </tr>\n",
       "    <tr>\n",
       "      <th>3</th>\n",
       "      <td>132</td>\n",
       "      <td>6</td>\n",
       "      <td>NaN</td>\n",
       "      <td>5.0</td>\n",
       "      <td>0</td>\n",
       "      <td>75</td>\n",
       "      <td>100000.0</td>\n",
       "      <td>2017</td>\n",
       "      <td>5</td>\n",
       "      <td>9</td>\n",
       "      <td>...</td>\n",
       "      <td>0</td>\n",
       "      <td>1.0</td>\n",
       "      <td>1.0</td>\n",
       "      <td>0.0</td>\n",
       "      <td>1.0</td>\n",
       "      <td>1</td>\n",
       "      <td>1</td>\n",
       "      <td>0</td>\n",
       "      <td>0</td>\n",
       "      <td>0</td>\n",
       "    </tr>\n",
       "    <tr>\n",
       "      <th>4</th>\n",
       "      <td>144</td>\n",
       "      <td>10</td>\n",
       "      <td>17.78</td>\n",
       "      <td>NaN</td>\n",
       "      <td>0</td>\n",
       "      <td>75</td>\n",
       "      <td>100000.0</td>\n",
       "      <td>2017</td>\n",
       "      <td>5</td>\n",
       "      <td>9</td>\n",
       "      <td>...</td>\n",
       "      <td>3</td>\n",
       "      <td>NaN</td>\n",
       "      <td>NaN</td>\n",
       "      <td>NaN</td>\n",
       "      <td>NaN</td>\n",
       "      <td>1</td>\n",
       "      <td>0</td>\n",
       "      <td>0</td>\n",
       "      <td>0</td>\n",
       "      <td>1</td>\n",
       "    </tr>\n",
       "    <tr>\n",
       "      <th>...</th>\n",
       "      <td>...</td>\n",
       "      <td>...</td>\n",
       "      <td>...</td>\n",
       "      <td>...</td>\n",
       "      <td>...</td>\n",
       "      <td>...</td>\n",
       "      <td>...</td>\n",
       "      <td>...</td>\n",
       "      <td>...</td>\n",
       "      <td>...</td>\n",
       "      <td>...</td>\n",
       "      <td>...</td>\n",
       "      <td>...</td>\n",
       "      <td>...</td>\n",
       "      <td>...</td>\n",
       "      <td>...</td>\n",
       "      <td>...</td>\n",
       "      <td>...</td>\n",
       "      <td>...</td>\n",
       "      <td>...</td>\n",
       "      <td>...</td>\n",
       "    </tr>\n",
       "    <tr>\n",
       "      <th>306529</th>\n",
       "      <td>576</td>\n",
       "      <td>4</td>\n",
       "      <td>NaN</td>\n",
       "      <td>NaN</td>\n",
       "      <td>2</td>\n",
       "      <td>118</td>\n",
       "      <td>64000.0</td>\n",
       "      <td>2017</td>\n",
       "      <td>9</td>\n",
       "      <td>26</td>\n",
       "      <td>...</td>\n",
       "      <td>0</td>\n",
       "      <td>1.0</td>\n",
       "      <td>1.0</td>\n",
       "      <td>1.0</td>\n",
       "      <td>1.0</td>\n",
       "      <td>16998</td>\n",
       "      <td>0</td>\n",
       "      <td>1</td>\n",
       "      <td>0</td>\n",
       "      <td>0</td>\n",
       "    </tr>\n",
       "    <tr>\n",
       "      <th>306530</th>\n",
       "      <td>594</td>\n",
       "      <td>4</td>\n",
       "      <td>NaN</td>\n",
       "      <td>NaN</td>\n",
       "      <td>2</td>\n",
       "      <td>118</td>\n",
       "      <td>64000.0</td>\n",
       "      <td>2017</td>\n",
       "      <td>9</td>\n",
       "      <td>26</td>\n",
       "      <td>...</td>\n",
       "      <td>0</td>\n",
       "      <td>1.0</td>\n",
       "      <td>1.0</td>\n",
       "      <td>1.0</td>\n",
       "      <td>1.0</td>\n",
       "      <td>16998</td>\n",
       "      <td>0</td>\n",
       "      <td>0</td>\n",
       "      <td>1</td>\n",
       "      <td>0</td>\n",
       "    </tr>\n",
       "    <tr>\n",
       "      <th>306531</th>\n",
       "      <td>576</td>\n",
       "      <td>4</td>\n",
       "      <td>NaN</td>\n",
       "      <td>NaN</td>\n",
       "      <td>0</td>\n",
       "      <td>58</td>\n",
       "      <td>78000.0</td>\n",
       "      <td>2016</td>\n",
       "      <td>10</td>\n",
       "      <td>20</td>\n",
       "      <td>...</td>\n",
       "      <td>0</td>\n",
       "      <td>1.0</td>\n",
       "      <td>1.0</td>\n",
       "      <td>1.0</td>\n",
       "      <td>1.0</td>\n",
       "      <td>16999</td>\n",
       "      <td>0</td>\n",
       "      <td>1</td>\n",
       "      <td>0</td>\n",
       "      <td>0</td>\n",
       "    </tr>\n",
       "    <tr>\n",
       "      <th>306532</th>\n",
       "      <td>576</td>\n",
       "      <td>4</td>\n",
       "      <td>NaN</td>\n",
       "      <td>NaN</td>\n",
       "      <td>0</td>\n",
       "      <td>58</td>\n",
       "      <td>78000.0</td>\n",
       "      <td>2016</td>\n",
       "      <td>10</td>\n",
       "      <td>20</td>\n",
       "      <td>...</td>\n",
       "      <td>0</td>\n",
       "      <td>1.0</td>\n",
       "      <td>1.0</td>\n",
       "      <td>1.0</td>\n",
       "      <td>1.0</td>\n",
       "      <td>16999</td>\n",
       "      <td>0</td>\n",
       "      <td>0</td>\n",
       "      <td>1</td>\n",
       "      <td>0</td>\n",
       "    </tr>\n",
       "    <tr>\n",
       "      <th>306533</th>\n",
       "      <td>582</td>\n",
       "      <td>10</td>\n",
       "      <td>0.35</td>\n",
       "      <td>NaN</td>\n",
       "      <td>2</td>\n",
       "      <td>118</td>\n",
       "      <td>64000.0</td>\n",
       "      <td>2017</td>\n",
       "      <td>8</td>\n",
       "      <td>1</td>\n",
       "      <td>...</td>\n",
       "      <td>3</td>\n",
       "      <td>NaN</td>\n",
       "      <td>NaN</td>\n",
       "      <td>NaN</td>\n",
       "      <td>NaN</td>\n",
       "      <td>17000</td>\n",
       "      <td>0</td>\n",
       "      <td>0</td>\n",
       "      <td>0</td>\n",
       "      <td>1</td>\n",
       "    </tr>\n",
       "  </tbody>\n",
       "</table>\n",
       "<p>306534 rows × 24 columns</p>\n",
       "</div>"
      ],
      "text/plain": [
       "        time  offer_id  amount  reward_x  gender  age    income  member_year  \\\n",
       "0          0         6     NaN       NaN       0   75  100000.0         2017   \n",
       "1          6         6     NaN       NaN       0   75  100000.0         2017   \n",
       "2        132        10   19.89       NaN       0   75  100000.0         2017   \n",
       "3        132         6     NaN       5.0       0   75  100000.0         2017   \n",
       "4        144        10   17.78       NaN       0   75  100000.0         2017   \n",
       "...      ...       ...     ...       ...     ...  ...       ...          ...   \n",
       "306529   576         4     NaN       NaN       2  118   64000.0         2017   \n",
       "306530   594         4     NaN       NaN       2  118   64000.0         2017   \n",
       "306531   576         4     NaN       NaN       0   58   78000.0         2016   \n",
       "306532   576         4     NaN       NaN       0   58   78000.0         2016   \n",
       "306533   582        10    0.35       NaN       2  118   64000.0         2017   \n",
       "\n",
       "        member_month  member_day  ... offer_type  email  mobile  social  web  \\\n",
       "0                  5           9  ...          0    1.0     1.0     0.0  1.0   \n",
       "1                  5           9  ...          0    1.0     1.0     0.0  1.0   \n",
       "2                  5           9  ...          3    NaN     NaN     NaN  NaN   \n",
       "3                  5           9  ...          0    1.0     1.0     0.0  1.0   \n",
       "4                  5           9  ...          3    NaN     NaN     NaN  NaN   \n",
       "...              ...         ...  ...        ...    ...     ...     ...  ...   \n",
       "306529             9          26  ...          0    1.0     1.0     1.0  1.0   \n",
       "306530             9          26  ...          0    1.0     1.0     1.0  1.0   \n",
       "306531            10          20  ...          0    1.0     1.0     1.0  1.0   \n",
       "306532            10          20  ...          0    1.0     1.0     1.0  1.0   \n",
       "306533             8           1  ...          3    NaN     NaN     NaN  NaN   \n",
       "\n",
       "        customer_id  event_offer completed  event_offer received  \\\n",
       "0                 1                      0                     1   \n",
       "1                 1                      0                     0   \n",
       "2                 1                      0                     0   \n",
       "3                 1                      1                     0   \n",
       "4                 1                      0                     0   \n",
       "...             ...                    ...                   ...   \n",
       "306529        16998                      0                     1   \n",
       "306530        16998                      0                     0   \n",
       "306531        16999                      0                     1   \n",
       "306532        16999                      0                     0   \n",
       "306533        17000                      0                     0   \n",
       "\n",
       "        event_offer viewed  event_transaction  \n",
       "0                        0                  0  \n",
       "1                        1                  0  \n",
       "2                        0                  1  \n",
       "3                        0                  0  \n",
       "4                        0                  1  \n",
       "...                    ...                ...  \n",
       "306529                   0                  0  \n",
       "306530                   1                  0  \n",
       "306531                   0                  0  \n",
       "306532                   1                  0  \n",
       "306533                   0                  1  \n",
       "\n",
       "[306534 rows x 24 columns]"
      ]
     },
     "execution_count": 33,
     "metadata": {},
     "output_type": "execute_result"
    }
   ],
   "source": [
    "transcript"
   ]
  },
  {
   "cell_type": "code",
   "execution_count": 34,
   "metadata": {
    "scrolled": true
   },
   "outputs": [
    {
     "name": "stdout",
     "output_type": "stream",
     "text": [
      "<class 'pandas.core.frame.DataFrame'>\n",
      "Int64Index: 306534 entries, 0 to 306533\n",
      "Data columns (total 24 columns):\n",
      " #   Column                 Non-Null Count   Dtype         \n",
      "---  ------                 --------------   -----         \n",
      " 0   time                   306534 non-null  int64         \n",
      " 1   offer_id               306534 non-null  int64         \n",
      " 2   amount                 138953 non-null  float64       \n",
      " 3   reward_x               33579 non-null   float64       \n",
      " 4   gender                 306534 non-null  int64         \n",
      " 5   age                    306534 non-null  int64         \n",
      " 6   income                 306534 non-null  float64       \n",
      " 7   member_year            306534 non-null  int64         \n",
      " 8   member_month           306534 non-null  int64         \n",
      " 9   member_day             306534 non-null  int64         \n",
      " 10  member_date            306534 non-null  datetime64[ns]\n",
      " 11  reward_y               167581 non-null  float64       \n",
      " 12  difficulty             167581 non-null  float64       \n",
      " 13  duration               167581 non-null  float64       \n",
      " 14  offer_type             306534 non-null  int64         \n",
      " 15  email                  167581 non-null  float64       \n",
      " 16  mobile                 167581 non-null  float64       \n",
      " 17  social                 167581 non-null  float64       \n",
      " 18  web                    167581 non-null  float64       \n",
      " 19  customer_id            306534 non-null  int64         \n",
      " 20  event_offer completed  306534 non-null  uint8         \n",
      " 21  event_offer received   306534 non-null  uint8         \n",
      " 22  event_offer viewed     306534 non-null  uint8         \n",
      " 23  event_transaction      306534 non-null  uint8         \n",
      "dtypes: datetime64[ns](1), float64(10), int64(9), uint8(4)\n",
      "memory usage: 50.3 MB\n"
     ]
    }
   ],
   "source": [
    "transcript.info()"
   ]
  },
  {
   "cell_type": "code",
   "execution_count": 35,
   "metadata": {},
   "outputs": [],
   "source": [
    "# renaming the columns to remove space\n",
    "transcript.rename(columns={\"event_offer completed\":\"event_offer_completed\",\n",
    "                           \"event_offer received\":\"event_offer_received\",\n",
    "                          \"event_offer viewed\":\"event_offer_viewed\"}, inplace=True)"
   ]
  },
  {
   "cell_type": "code",
   "execution_count": 36,
   "metadata": {},
   "outputs": [],
   "source": [
    "# fill the NaNs with the same offer id and offer type \n",
    "# transcript.offer_id.fillna(method='ffill', inplace=True)\n",
    "# transcript.offer_type.fillna(method='ffill', inplace=True)"
   ]
  },
  {
   "cell_type": "code",
   "execution_count": 37,
   "metadata": {},
   "outputs": [],
   "source": [
    "# transactions_df is a dataframe which consists only of transaction events\n",
    "transactions_df = transcript[transcript['event_transaction']==1]"
   ]
  },
  {
   "cell_type": "code",
   "execution_count": 38,
   "metadata": {},
   "outputs": [],
   "source": [
    "# after resetting the indices, drop the unnecessary columns\n",
    "transactions_df.reset_index(inplace=True)\n",
    "del transactions_df['index']"
   ]
  },
  {
   "cell_type": "code",
   "execution_count": 39,
   "metadata": {},
   "outputs": [],
   "source": [
    "cols_to_drop = ['time', 'offer_id', 'reward_x', 'reward_y',\n",
    "       'difficulty', 'duration', 'offer_type', 'web', 'social', 'email',\n",
    "       'mobile', 'event_offer_completed',\n",
    "       'event_offer_received', 'event_offer_viewed']"
   ]
  },
  {
   "cell_type": "code",
   "execution_count": 40,
   "metadata": {
    "scrolled": true
   },
   "outputs": [],
   "source": [
    "for col in cols_to_drop:\n",
    "    del transactions_df[col]"
   ]
  },
  {
   "cell_type": "code",
   "execution_count": 41,
   "metadata": {
    "scrolled": true
   },
   "outputs": [
    {
     "data": {
      "text/html": [
       "<div>\n",
       "<style scoped>\n",
       "    .dataframe tbody tr th:only-of-type {\n",
       "        vertical-align: middle;\n",
       "    }\n",
       "\n",
       "    .dataframe tbody tr th {\n",
       "        vertical-align: top;\n",
       "    }\n",
       "\n",
       "    .dataframe thead th {\n",
       "        text-align: right;\n",
       "    }\n",
       "</style>\n",
       "<table border=\"1\" class=\"dataframe\">\n",
       "  <thead>\n",
       "    <tr style=\"text-align: right;\">\n",
       "      <th></th>\n",
       "      <th>amount</th>\n",
       "      <th>gender</th>\n",
       "      <th>age</th>\n",
       "      <th>income</th>\n",
       "      <th>member_year</th>\n",
       "      <th>member_month</th>\n",
       "      <th>member_day</th>\n",
       "      <th>member_date</th>\n",
       "      <th>customer_id</th>\n",
       "      <th>event_transaction</th>\n",
       "    </tr>\n",
       "  </thead>\n",
       "  <tbody>\n",
       "    <tr>\n",
       "      <th>0</th>\n",
       "      <td>19.89</td>\n",
       "      <td>0</td>\n",
       "      <td>75</td>\n",
       "      <td>100000.0</td>\n",
       "      <td>2017</td>\n",
       "      <td>5</td>\n",
       "      <td>9</td>\n",
       "      <td>2017-05-09</td>\n",
       "      <td>1</td>\n",
       "      <td>1</td>\n",
       "    </tr>\n",
       "    <tr>\n",
       "      <th>1</th>\n",
       "      <td>17.78</td>\n",
       "      <td>0</td>\n",
       "      <td>75</td>\n",
       "      <td>100000.0</td>\n",
       "      <td>2017</td>\n",
       "      <td>5</td>\n",
       "      <td>9</td>\n",
       "      <td>2017-05-09</td>\n",
       "      <td>1</td>\n",
       "      <td>1</td>\n",
       "    </tr>\n",
       "    <tr>\n",
       "      <th>2</th>\n",
       "      <td>19.67</td>\n",
       "      <td>0</td>\n",
       "      <td>75</td>\n",
       "      <td>100000.0</td>\n",
       "      <td>2017</td>\n",
       "      <td>5</td>\n",
       "      <td>9</td>\n",
       "      <td>2017-05-09</td>\n",
       "      <td>1</td>\n",
       "      <td>1</td>\n",
       "    </tr>\n",
       "    <tr>\n",
       "      <th>3</th>\n",
       "      <td>29.72</td>\n",
       "      <td>0</td>\n",
       "      <td>75</td>\n",
       "      <td>100000.0</td>\n",
       "      <td>2017</td>\n",
       "      <td>5</td>\n",
       "      <td>9</td>\n",
       "      <td>2017-05-09</td>\n",
       "      <td>1</td>\n",
       "      <td>1</td>\n",
       "    </tr>\n",
       "    <tr>\n",
       "      <th>4</th>\n",
       "      <td>23.93</td>\n",
       "      <td>0</td>\n",
       "      <td>75</td>\n",
       "      <td>100000.0</td>\n",
       "      <td>2017</td>\n",
       "      <td>5</td>\n",
       "      <td>9</td>\n",
       "      <td>2017-05-09</td>\n",
       "      <td>1</td>\n",
       "      <td>1</td>\n",
       "    </tr>\n",
       "    <tr>\n",
       "      <th>...</th>\n",
       "      <td>...</td>\n",
       "      <td>...</td>\n",
       "      <td>...</td>\n",
       "      <td>...</td>\n",
       "      <td>...</td>\n",
       "      <td>...</td>\n",
       "      <td>...</td>\n",
       "      <td>...</td>\n",
       "      <td>...</td>\n",
       "      <td>...</td>\n",
       "    </tr>\n",
       "    <tr>\n",
       "      <th>138948</th>\n",
       "      <td>2.65</td>\n",
       "      <td>1</td>\n",
       "      <td>58</td>\n",
       "      <td>57000.0</td>\n",
       "      <td>2017</td>\n",
       "      <td>9</td>\n",
       "      <td>5</td>\n",
       "      <td>2017-09-05</td>\n",
       "      <td>16994</td>\n",
       "      <td>1</td>\n",
       "    </tr>\n",
       "    <tr>\n",
       "      <th>138949</th>\n",
       "      <td>4.62</td>\n",
       "      <td>1</td>\n",
       "      <td>48</td>\n",
       "      <td>58000.0</td>\n",
       "      <td>2018</td>\n",
       "      <td>6</td>\n",
       "      <td>10</td>\n",
       "      <td>2018-06-10</td>\n",
       "      <td>16995</td>\n",
       "      <td>1</td>\n",
       "    </tr>\n",
       "    <tr>\n",
       "      <th>138950</th>\n",
       "      <td>2.57</td>\n",
       "      <td>2</td>\n",
       "      <td>118</td>\n",
       "      <td>64000.0</td>\n",
       "      <td>2017</td>\n",
       "      <td>12</td>\n",
       "      <td>3</td>\n",
       "      <td>2017-12-03</td>\n",
       "      <td>16997</td>\n",
       "      <td>1</td>\n",
       "    </tr>\n",
       "    <tr>\n",
       "      <th>138951</th>\n",
       "      <td>12.64</td>\n",
       "      <td>2</td>\n",
       "      <td>118</td>\n",
       "      <td>64000.0</td>\n",
       "      <td>2017</td>\n",
       "      <td>12</td>\n",
       "      <td>3</td>\n",
       "      <td>2017-12-03</td>\n",
       "      <td>16997</td>\n",
       "      <td>1</td>\n",
       "    </tr>\n",
       "    <tr>\n",
       "      <th>138952</th>\n",
       "      <td>0.35</td>\n",
       "      <td>2</td>\n",
       "      <td>118</td>\n",
       "      <td>64000.0</td>\n",
       "      <td>2017</td>\n",
       "      <td>8</td>\n",
       "      <td>1</td>\n",
       "      <td>2017-08-01</td>\n",
       "      <td>17000</td>\n",
       "      <td>1</td>\n",
       "    </tr>\n",
       "  </tbody>\n",
       "</table>\n",
       "<p>138953 rows × 10 columns</p>\n",
       "</div>"
      ],
      "text/plain": [
       "        amount  gender  age    income  member_year  member_month  member_day  \\\n",
       "0        19.89       0   75  100000.0         2017             5           9   \n",
       "1        17.78       0   75  100000.0         2017             5           9   \n",
       "2        19.67       0   75  100000.0         2017             5           9   \n",
       "3        29.72       0   75  100000.0         2017             5           9   \n",
       "4        23.93       0   75  100000.0         2017             5           9   \n",
       "...        ...     ...  ...       ...          ...           ...         ...   \n",
       "138948    2.65       1   58   57000.0         2017             9           5   \n",
       "138949    4.62       1   48   58000.0         2018             6          10   \n",
       "138950    2.57       2  118   64000.0         2017            12           3   \n",
       "138951   12.64       2  118   64000.0         2017            12           3   \n",
       "138952    0.35       2  118   64000.0         2017             8           1   \n",
       "\n",
       "       member_date  customer_id  event_transaction  \n",
       "0       2017-05-09            1                  1  \n",
       "1       2017-05-09            1                  1  \n",
       "2       2017-05-09            1                  1  \n",
       "3       2017-05-09            1                  1  \n",
       "4       2017-05-09            1                  1  \n",
       "...            ...          ...                ...  \n",
       "138948  2017-09-05        16994                  1  \n",
       "138949  2018-06-10        16995                  1  \n",
       "138950  2017-12-03        16997                  1  \n",
       "138951  2017-12-03        16997                  1  \n",
       "138952  2017-08-01        17000                  1  \n",
       "\n",
       "[138953 rows x 10 columns]"
      ]
     },
     "execution_count": 41,
     "metadata": {},
     "output_type": "execute_result"
    }
   ],
   "source": [
    "transactions_df"
   ]
  },
  {
   "cell_type": "code",
   "execution_count": 42,
   "metadata": {
    "scrolled": true
   },
   "outputs": [
    {
     "name": "stdout",
     "output_type": "stream",
     "text": [
      "<class 'pandas.core.frame.DataFrame'>\n",
      "RangeIndex: 138953 entries, 0 to 138952\n",
      "Data columns (total 10 columns):\n",
      " #   Column             Non-Null Count   Dtype         \n",
      "---  ------             --------------   -----         \n",
      " 0   amount             138953 non-null  float64       \n",
      " 1   gender             138953 non-null  int64         \n",
      " 2   age                138953 non-null  int64         \n",
      " 3   income             138953 non-null  float64       \n",
      " 4   member_year        138953 non-null  int64         \n",
      " 5   member_month       138953 non-null  int64         \n",
      " 6   member_day         138953 non-null  int64         \n",
      " 7   member_date        138953 non-null  datetime64[ns]\n",
      " 8   customer_id        138953 non-null  int64         \n",
      " 9   event_transaction  138953 non-null  uint8         \n",
      "dtypes: datetime64[ns](1), float64(2), int64(6), uint8(1)\n",
      "memory usage: 9.7 MB\n"
     ]
    }
   ],
   "source": [
    "transactions_df.info()"
   ]
  },
  {
   "cell_type": "code",
   "execution_count": 43,
   "metadata": {},
   "outputs": [],
   "source": [
    "# offers_df is a dataframe which consists only of offer events\n",
    "offers_df = transcript[transcript['event_transaction']!=1]"
   ]
  },
  {
   "cell_type": "code",
   "execution_count": 44,
   "metadata": {},
   "outputs": [],
   "source": [
    "# after resetting the indices, drop the unnecessary columns\n",
    "offers_df.reset_index(inplace=True)\n",
    "del offers_df['index']"
   ]
  },
  {
   "cell_type": "code",
   "execution_count": 45,
   "metadata": {},
   "outputs": [],
   "source": [
    "del offers_df['amount']"
   ]
  },
  {
   "cell_type": "code",
   "execution_count": 46,
   "metadata": {},
   "outputs": [],
   "source": [
    "del offers_df['reward_x']"
   ]
  },
  {
   "cell_type": "code",
   "execution_count": 47,
   "metadata": {},
   "outputs": [],
   "source": [
    "del offers_df['event_transaction']"
   ]
  },
  {
   "cell_type": "code",
   "execution_count": 48,
   "metadata": {
    "scrolled": true
   },
   "outputs": [
    {
     "name": "stdout",
     "output_type": "stream",
     "text": [
      "<class 'pandas.core.frame.DataFrame'>\n",
      "RangeIndex: 167581 entries, 0 to 167580\n",
      "Data columns (total 21 columns):\n",
      " #   Column                 Non-Null Count   Dtype         \n",
      "---  ------                 --------------   -----         \n",
      " 0   time                   167581 non-null  int64         \n",
      " 1   offer_id               167581 non-null  int64         \n",
      " 2   gender                 167581 non-null  int64         \n",
      " 3   age                    167581 non-null  int64         \n",
      " 4   income                 167581 non-null  float64       \n",
      " 5   member_year            167581 non-null  int64         \n",
      " 6   member_month           167581 non-null  int64         \n",
      " 7   member_day             167581 non-null  int64         \n",
      " 8   member_date            167581 non-null  datetime64[ns]\n",
      " 9   reward_y               167581 non-null  float64       \n",
      " 10  difficulty             167581 non-null  float64       \n",
      " 11  duration               167581 non-null  float64       \n",
      " 12  offer_type             167581 non-null  int64         \n",
      " 13  email                  167581 non-null  float64       \n",
      " 14  mobile                 167581 non-null  float64       \n",
      " 15  social                 167581 non-null  float64       \n",
      " 16  web                    167581 non-null  float64       \n",
      " 17  customer_id            167581 non-null  int64         \n",
      " 18  event_offer_completed  167581 non-null  uint8         \n",
      " 19  event_offer_received   167581 non-null  uint8         \n",
      " 20  event_offer_viewed     167581 non-null  uint8         \n",
      "dtypes: datetime64[ns](1), float64(8), int64(9), uint8(3)\n",
      "memory usage: 23.5 MB\n"
     ]
    }
   ],
   "source": [
    "offers_df.info()"
   ]
  },
  {
   "cell_type": "code",
   "execution_count": 49,
   "metadata": {},
   "outputs": [
    {
     "data": {
      "text/plain": [
       "16994"
      ]
     },
     "execution_count": 49,
     "metadata": {},
     "output_type": "execute_result"
    }
   ],
   "source": [
    "offers_df.customer_id.nunique()"
   ]
  },
  {
   "cell_type": "markdown",
   "metadata": {},
   "source": [
    "### Identifying groups that are the most responding to various offers: "
   ]
  },
  {
   "cell_type": "code",
   "execution_count": 50,
   "metadata": {
    "scrolled": true
   },
   "outputs": [
    {
     "name": "stdout",
     "output_type": "stream",
     "text": [
      "<class 'pandas.core.frame.DataFrame'>\n",
      "Int64Index: 306534 entries, 0 to 306533\n",
      "Data columns (total 24 columns):\n",
      " #   Column                 Non-Null Count   Dtype         \n",
      "---  ------                 --------------   -----         \n",
      " 0   time                   306534 non-null  int64         \n",
      " 1   offer_id               306534 non-null  int64         \n",
      " 2   amount                 138953 non-null  float64       \n",
      " 3   reward_x               33579 non-null   float64       \n",
      " 4   gender                 306534 non-null  int64         \n",
      " 5   age                    306534 non-null  int64         \n",
      " 6   income                 306534 non-null  float64       \n",
      " 7   member_year            306534 non-null  int64         \n",
      " 8   member_month           306534 non-null  int64         \n",
      " 9   member_day             306534 non-null  int64         \n",
      " 10  member_date            306534 non-null  datetime64[ns]\n",
      " 11  reward_y               167581 non-null  float64       \n",
      " 12  difficulty             167581 non-null  float64       \n",
      " 13  duration               167581 non-null  float64       \n",
      " 14  offer_type             306534 non-null  int64         \n",
      " 15  email                  167581 non-null  float64       \n",
      " 16  mobile                 167581 non-null  float64       \n",
      " 17  social                 167581 non-null  float64       \n",
      " 18  web                    167581 non-null  float64       \n",
      " 19  customer_id            306534 non-null  int64         \n",
      " 20  event_offer_completed  306534 non-null  uint8         \n",
      " 21  event_offer_received   306534 non-null  uint8         \n",
      " 22  event_offer_viewed     306534 non-null  uint8         \n",
      " 23  event_transaction      306534 non-null  uint8         \n",
      "dtypes: datetime64[ns](1), float64(10), int64(9), uint8(4)\n",
      "memory usage: 50.3 MB\n"
     ]
    }
   ],
   "source": [
    "transcript.info()"
   ]
  },
  {
   "cell_type": "code",
   "execution_count": 51,
   "metadata": {
    "scrolled": true
   },
   "outputs": [],
   "source": [
    "del transcript['reward_x']"
   ]
  },
  {
   "cell_type": "code",
   "execution_count": 52,
   "metadata": {},
   "outputs": [
    {
     "data": {
      "text/plain": [
       "64299.872118590436"
      ]
     },
     "execution_count": 52,
     "metadata": {},
     "output_type": "execute_result"
    }
   ],
   "source": [
    "# Average income of Starbucks customers\n",
    "transcript['income'].mean()"
   ]
  },
  {
   "cell_type": "code",
   "execution_count": 53,
   "metadata": {},
   "outputs": [
    {
     "data": {
      "text/plain": [
       "60.90936731325073"
      ]
     },
     "execution_count": 53,
     "metadata": {},
     "output_type": "execute_result"
    }
   ],
   "source": [
    "# Average age of Starbucks customers\n",
    "transcript['age'].mean()"
   ]
  },
  {
   "cell_type": "code",
   "execution_count": 54,
   "metadata": {},
   "outputs": [
    {
     "data": {
      "image/png": "[encoded data removed]",
      "text/plain": [
       "<Figure size 432x288 with 1 Axes>"
      ]
     },
     "metadata": {},
     "output_type": "display_data"
    }
   ],
   "source": [
    "# Most common Offer Type Viewed\n",
    "received_offer_count = transcript[transcript['event_offer_viewed']==1]\n",
    "\n",
    "sns.countplot(y=received_offer_count['offer_type'])\n",
    "plt.title('Number of Viewed Promotions for each Offer')\n",
    "plt.ylabel('Offer Type')\n",
    "plt.xticks(rotation = 45)\n",
    "plt.show();"
   ]
  },
  {
   "cell_type": "markdown",
   "metadata": {},
   "source": [
    "#### Above plot shows that the Offers of type Buy One Get One (BOGO) seem to be more attractive and they are the ones which are most viewed by the customers followed by Discount offers and then Informational "
   ]
  },
  {
   "cell_type": "code",
   "execution_count": 55,
   "metadata": {},
   "outputs": [
    {
     "name": "stderr",
     "output_type": "stream",
     "text": [
      "/Users/sammitranade/anaconda3/lib/python3.6/site-packages/sklearn/preprocessing/label.py:151: DeprecationWarning: The truth value of an empty array is ambiguous. Returning False, but in future this will result in an error. Use `array.size > 0` to check that an array is not empty.\n",
      "  if diff:\n"
     ]
    },
    {
     "data": {
      "text/plain": [
       "array(['bogo', 'discount', 'informational', 'nan'], dtype=object)"
      ]
     },
     "execution_count": 55,
     "metadata": {},
     "output_type": "execute_result"
    }
   ],
   "source": [
    "le2.inverse_transform([0, 1, 2, 3])"
   ]
  },
  {
   "cell_type": "code",
   "execution_count": 56,
   "metadata": {},
   "outputs": [
    {
     "data": {
      "image/png": "[encoded data removed]",
      "text/plain": [
       "<Figure size 432x288 with 1 Axes>"
      ]
     },
     "metadata": {},
     "output_type": "display_data"
    }
   ],
   "source": [
    "# Most common Offer Viewed\n",
    "received_offer_count = transcript[transcript['event_offer_viewed']==1]\n",
    "\n",
    "sns.countplot(y=received_offer_count['offer_id'])\n",
    "plt.title('Number of Viewed Promotions for each Offer')\n",
    "plt.ylabel('Offer ID')\n",
    "plt.xticks(rotation = 45)\n",
    "plt.show();"
   ]
  },
  {
   "cell_type": "markdown",
   "metadata": {},
   "source": [
    "#### Above plot shows that the Offer IDs 1, 4, 8, 9 which are of types BOGO and Discount are the most viewed with dollar rewards 3, 10, 5, 2 respectively."
   ]
  },
  {
   "cell_type": "code",
   "execution_count": 57,
   "metadata": {},
   "outputs": [
    {
     "name": "stderr",
     "output_type": "stream",
     "text": [
      "/Users/sammitranade/anaconda3/lib/python3.6/site-packages/sklearn/preprocessing/label.py:151: DeprecationWarning: The truth value of an empty array is ambiguous. Returning False, but in future this will result in an error. Use `array.size > 0` to check that an array is not empty.\n",
      "  if diff:\n"
     ]
    },
    {
     "data": {
      "text/plain": [
       "array(['2298d6c36e964ae4a3e7e9706d1fb8c2',\n",
       "       '4d5c57ea9a6940dd891ad53e9dbe8da0',\n",
       "       'f19421c1d4aa40978ebb69ca19b0e20d',\n",
       "       'fafdcd668e3743c1bb461111dcafc2a4'], dtype=object)"
      ]
     },
     "execution_count": 57,
     "metadata": {},
     "output_type": "execute_result"
    }
   ],
   "source": [
    "le1.inverse_transform([1, 4, 8, 9])"
   ]
  },
  {
   "cell_type": "code",
   "execution_count": 58,
   "metadata": {
    "scrolled": true
   },
   "outputs": [
    {
     "data": {
      "text/html": [
       "<div>\n",
       "<style scoped>\n",
       "    .dataframe tbody tr th:only-of-type {\n",
       "        vertical-align: middle;\n",
       "    }\n",
       "\n",
       "    .dataframe tbody tr th {\n",
       "        vertical-align: top;\n",
       "    }\n",
       "\n",
       "    .dataframe thead th {\n",
       "        text-align: right;\n",
       "    }\n",
       "</style>\n",
       "<table border=\"1\" class=\"dataframe\">\n",
       "  <thead>\n",
       "    <tr style=\"text-align: right;\">\n",
       "      <th></th>\n",
       "      <th>reward</th>\n",
       "      <th>difficulty</th>\n",
       "      <th>duration</th>\n",
       "      <th>offer_type</th>\n",
       "      <th>offer_id</th>\n",
       "      <th>email</th>\n",
       "      <th>mobile</th>\n",
       "      <th>social</th>\n",
       "      <th>web</th>\n",
       "    </tr>\n",
       "  </thead>\n",
       "  <tbody>\n",
       "    <tr>\n",
       "      <th>0</th>\n",
       "      <td>10</td>\n",
       "      <td>10</td>\n",
       "      <td>7</td>\n",
       "      <td>bogo</td>\n",
       "      <td>ae264e3637204a6fb9bb56bc8210ddfd</td>\n",
       "      <td>1</td>\n",
       "      <td>1</td>\n",
       "      <td>1</td>\n",
       "      <td>0</td>\n",
       "    </tr>\n",
       "    <tr>\n",
       "      <th>1</th>\n",
       "      <td>10</td>\n",
       "      <td>10</td>\n",
       "      <td>5</td>\n",
       "      <td>bogo</td>\n",
       "      <td>4d5c57ea9a6940dd891ad53e9dbe8da0</td>\n",
       "      <td>1</td>\n",
       "      <td>1</td>\n",
       "      <td>1</td>\n",
       "      <td>1</td>\n",
       "    </tr>\n",
       "    <tr>\n",
       "      <th>2</th>\n",
       "      <td>0</td>\n",
       "      <td>0</td>\n",
       "      <td>4</td>\n",
       "      <td>informational</td>\n",
       "      <td>3f207df678b143eea3cee63160fa8bed</td>\n",
       "      <td>1</td>\n",
       "      <td>1</td>\n",
       "      <td>0</td>\n",
       "      <td>1</td>\n",
       "    </tr>\n",
       "    <tr>\n",
       "      <th>3</th>\n",
       "      <td>5</td>\n",
       "      <td>5</td>\n",
       "      <td>7</td>\n",
       "      <td>bogo</td>\n",
       "      <td>9b98b8c7a33c4b65b9aebfe6a799e6d9</td>\n",
       "      <td>1</td>\n",
       "      <td>1</td>\n",
       "      <td>0</td>\n",
       "      <td>1</td>\n",
       "    </tr>\n",
       "    <tr>\n",
       "      <th>4</th>\n",
       "      <td>5</td>\n",
       "      <td>20</td>\n",
       "      <td>10</td>\n",
       "      <td>discount</td>\n",
       "      <td>0b1e1539f2cc45b7b9fa7c272da2e1d7</td>\n",
       "      <td>1</td>\n",
       "      <td>0</td>\n",
       "      <td>0</td>\n",
       "      <td>1</td>\n",
       "    </tr>\n",
       "    <tr>\n",
       "      <th>5</th>\n",
       "      <td>3</td>\n",
       "      <td>7</td>\n",
       "      <td>7</td>\n",
       "      <td>discount</td>\n",
       "      <td>2298d6c36e964ae4a3e7e9706d1fb8c2</td>\n",
       "      <td>1</td>\n",
       "      <td>1</td>\n",
       "      <td>1</td>\n",
       "      <td>1</td>\n",
       "    </tr>\n",
       "    <tr>\n",
       "      <th>6</th>\n",
       "      <td>2</td>\n",
       "      <td>10</td>\n",
       "      <td>10</td>\n",
       "      <td>discount</td>\n",
       "      <td>fafdcd668e3743c1bb461111dcafc2a4</td>\n",
       "      <td>1</td>\n",
       "      <td>1</td>\n",
       "      <td>1</td>\n",
       "      <td>1</td>\n",
       "    </tr>\n",
       "    <tr>\n",
       "      <th>7</th>\n",
       "      <td>0</td>\n",
       "      <td>0</td>\n",
       "      <td>3</td>\n",
       "      <td>informational</td>\n",
       "      <td>5a8bc65990b245e5a138643cd4eb9837</td>\n",
       "      <td>1</td>\n",
       "      <td>1</td>\n",
       "      <td>1</td>\n",
       "      <td>0</td>\n",
       "    </tr>\n",
       "    <tr>\n",
       "      <th>8</th>\n",
       "      <td>5</td>\n",
       "      <td>5</td>\n",
       "      <td>5</td>\n",
       "      <td>bogo</td>\n",
       "      <td>f19421c1d4aa40978ebb69ca19b0e20d</td>\n",
       "      <td>1</td>\n",
       "      <td>1</td>\n",
       "      <td>1</td>\n",
       "      <td>1</td>\n",
       "    </tr>\n",
       "    <tr>\n",
       "      <th>9</th>\n",
       "      <td>2</td>\n",
       "      <td>10</td>\n",
       "      <td>7</td>\n",
       "      <td>discount</td>\n",
       "      <td>2906b810c7d4411798c6938adc9daaa5</td>\n",
       "      <td>1</td>\n",
       "      <td>1</td>\n",
       "      <td>0</td>\n",
       "      <td>1</td>\n",
       "    </tr>\n",
       "  </tbody>\n",
       "</table>\n",
       "</div>"
      ],
      "text/plain": [
       "   reward  difficulty  duration     offer_type  \\\n",
       "0      10          10         7           bogo   \n",
       "1      10          10         5           bogo   \n",
       "2       0           0         4  informational   \n",
       "3       5           5         7           bogo   \n",
       "4       5          20        10       discount   \n",
       "5       3           7         7       discount   \n",
       "6       2          10        10       discount   \n",
       "7       0           0         3  informational   \n",
       "8       5           5         5           bogo   \n",
       "9       2          10         7       discount   \n",
       "\n",
       "                           offer_id  email  mobile  social  web  \n",
       "0  ae264e3637204a6fb9bb56bc8210ddfd      1       1       1    0  \n",
       "1  4d5c57ea9a6940dd891ad53e9dbe8da0      1       1       1    1  \n",
       "2  3f207df678b143eea3cee63160fa8bed      1       1       0    1  \n",
       "3  9b98b8c7a33c4b65b9aebfe6a799e6d9      1       1       0    1  \n",
       "4  0b1e1539f2cc45b7b9fa7c272da2e1d7      1       0       0    1  \n",
       "5  2298d6c36e964ae4a3e7e9706d1fb8c2      1       1       1    1  \n",
       "6  fafdcd668e3743c1bb461111dcafc2a4      1       1       1    1  \n",
       "7  5a8bc65990b245e5a138643cd4eb9837      1       1       1    0  \n",
       "8  f19421c1d4aa40978ebb69ca19b0e20d      1       1       1    1  \n",
       "9  2906b810c7d4411798c6938adc9daaa5      1       1       0    1  "
      ]
     },
     "execution_count": 58,
     "metadata": {},
     "output_type": "execute_result"
    }
   ],
   "source": [
    "portfolio"
   ]
  },
  {
   "cell_type": "code",
   "execution_count": 59,
   "metadata": {
    "scrolled": true
   },
   "outputs": [
    {
     "data": {
      "image/png": "[encoded data removed]",
      "text/plain": [
       "<Figure size 432x288 with 1 Axes>"
      ]
     },
     "metadata": {},
     "output_type": "display_data"
    }
   ],
   "source": [
    "# Most common Offer Completed\n",
    "received_offer_count = transcript[transcript['event_offer_completed']==1]\n",
    "\n",
    "sns.countplot(y=received_offer_count['offer_type'])\n",
    "plt.title('Number of Completed Promotions for each Offer')\n",
    "plt.ylabel('Offer Type')\n",
    "plt.xticks(rotation = 45)\n",
    "plt.show();"
   ]
  },
  {
   "cell_type": "markdown",
   "metadata": {},
   "source": [
    "#### Above plot shows that the Offers of type Buy One Get One (BOGO) and Discount are the only offers that are completed by the customers"
   ]
  },
  {
   "cell_type": "code",
   "execution_count": 60,
   "metadata": {},
   "outputs": [
    {
     "name": "stderr",
     "output_type": "stream",
     "text": [
      "/Users/sammitranade/anaconda3/lib/python3.6/site-packages/ipykernel_launcher.py:2: SettingWithCopyWarning: \n",
      "A value is trying to be set on a copy of a slice from a DataFrame.\n",
      "Try using .loc[row_indexer,col_indexer] = value instead\n",
      "\n",
      "See the caveats in the documentation: https://pandas.pydata.org/pandas-docs/stable/user_guide/indexing.html#returning-a-view-versus-a-copy\n",
      "  \n"
     ]
    }
   ],
   "source": [
    "offers_df['age_groups'] = pd.cut(offers_df.age, bins=[0, 12, 18, 21, 64, 200], \n",
    "                               labels=['child', 'teen', 'young adult', 'adult', 'elderly'])"
   ]
  },
  {
   "cell_type": "code",
   "execution_count": 61,
   "metadata": {},
   "outputs": [
    {
     "data": {
      "image/png": "[encoded data removed]",
      "text/plain": [
       "<Figure size 1008x432 with 1 Axes>"
      ]
     },
     "metadata": {},
     "output_type": "display_data"
    }
   ],
   "source": [
    "# Plot graph to find Most Popular Offers to Each Age Group\n",
    "plt.figure(figsize=(14, 6))\n",
    "sns.countplot(x=\"age_groups\", hue=\"offer_type\", data=offers_df)\n",
    "plt.title('Most Popular Offers to Each Age Group')\n",
    "plt.ylabel('Total')\n",
    "plt.xlabel('Age Group')\n",
    "plt.xticks(rotation = 0)\n",
    "plt.legend(title='Offer Type')\n",
    "plt.show();"
   ]
  },
  {
   "cell_type": "markdown",
   "metadata": {},
   "source": [
    "#### BOGO being the most popular Offer Type, it is mostly used by the ADULT age group of customers followed by the ELDERLY age group."
   ]
  },
  {
   "cell_type": "code",
   "execution_count": 62,
   "metadata": {
    "scrolled": false
   },
   "outputs": [
    {
     "data": {
      "image/png": "[encoded data removed]",
      "text/plain": [
       "<Figure size 1008x432 with 1 Axes>"
      ]
     },
     "metadata": {},
     "output_type": "display_data"
    }
   ],
   "source": [
    "# Plot graph to find Most Popular Offers Gender wise\n",
    "plt.figure(figsize=(14, 6))\n",
    "sns.countplot(x=offers_df['gender'], hue = 'offer_type', data=offers_df)\n",
    "plt.title('Most Popular Offers to Each Gender')\n",
    "plt.ylabel('Total')\n",
    "plt.xlabel('Gender')\n",
    "plt.xticks(rotation = 0)\n",
    "plt.show();"
   ]
  },
  {
   "cell_type": "markdown",
   "metadata": {},
   "source": [
    "#### Same case here, BOGO being the most popular Offer Type, it is mostly used by the Males followed by the Females"
   ]
  },
  {
   "cell_type": "code",
   "execution_count": 63,
   "metadata": {},
   "outputs": [
    {
     "name": "stderr",
     "output_type": "stream",
     "text": [
      "/Users/sammitranade/anaconda3/lib/python3.6/site-packages/sklearn/preprocessing/label.py:151: DeprecationWarning: The truth value of an empty array is ambiguous. Returning False, but in future this will result in an error. Use `array.size > 0` to check that an array is not empty.\n",
      "  if diff:\n"
     ]
    },
    {
     "data": {
      "text/plain": [
       "array(['bogo', 'discount', 'informational', 'nan'], dtype=object)"
      ]
     },
     "execution_count": 63,
     "metadata": {},
     "output_type": "execute_result"
    }
   ],
   "source": [
    "le2.inverse_transform([0, 1, 2, 3])"
   ]
  },
  {
   "cell_type": "code",
   "execution_count": 64,
   "metadata": {},
   "outputs": [
    {
     "name": "stderr",
     "output_type": "stream",
     "text": [
      "/Users/sammitranade/anaconda3/lib/python3.6/site-packages/sklearn/preprocessing/label.py:151: DeprecationWarning: The truth value of an empty array is ambiguous. Returning False, but in future this will result in an error. Use `array.size > 0` to check that an array is not empty.\n",
      "  if diff:\n"
     ]
    },
    {
     "data": {
      "text/plain": [
       "array(['F', 'M', 'NA', 'O'], dtype=object)"
      ]
     },
     "execution_count": 64,
     "metadata": {},
     "output_type": "execute_result"
    }
   ],
   "source": [
    "le3.inverse_transform([0, 1, 2, 3])"
   ]
  },
  {
   "cell_type": "code",
   "execution_count": 65,
   "metadata": {},
   "outputs": [
    {
     "data": {
      "image/png": "[encoded data removed]",
      "text/plain": [
       "<Figure size 720x720 with 1 Axes>"
      ]
     },
     "metadata": {},
     "output_type": "display_data"
    }
   ],
   "source": [
    "# Number of sign ups each day\n",
    "transcript.member_date.value_counts().plot(kind = 'line', figsize = (10,10))\n",
    "plt.xlabel('Date', fontsize = 12)\n",
    "plt.ylabel('Number of Sign Ups', fontsize = 12)\n",
    "plt.title('Number of Sign Ups Each Day');"
   ]
  },
  {
   "cell_type": "markdown",
   "metadata": {},
   "source": [
    "### It is observed that in the late 2017, the number of daily sign-ups had crossed the 500-mark, which was between 200-400, back in 2016. But decreased subsequently in 2018."
   ]
  },
  {
   "cell_type": "markdown",
   "metadata": {},
   "source": [
    "## IV. Data Modelling"
   ]
  },
  {
   "cell_type": "markdown",
   "metadata": {},
   "source": [
    "### Unsupervised Learning"
   ]
  },
  {
   "cell_type": "code",
   "execution_count": 66,
   "metadata": {},
   "outputs": [
    {
     "data": {
      "text/html": [
       "<div>\n",
       "<style scoped>\n",
       "    .dataframe tbody tr th:only-of-type {\n",
       "        vertical-align: middle;\n",
       "    }\n",
       "\n",
       "    .dataframe tbody tr th {\n",
       "        vertical-align: top;\n",
       "    }\n",
       "\n",
       "    .dataframe thead th {\n",
       "        text-align: right;\n",
       "    }\n",
       "</style>\n",
       "<table border=\"1\" class=\"dataframe\">\n",
       "  <thead>\n",
       "    <tr style=\"text-align: right;\">\n",
       "      <th></th>\n",
       "      <th>time</th>\n",
       "      <th>offer_id</th>\n",
       "      <th>gender</th>\n",
       "      <th>age</th>\n",
       "      <th>income</th>\n",
       "      <th>member_year</th>\n",
       "      <th>member_month</th>\n",
       "      <th>member_day</th>\n",
       "      <th>member_date</th>\n",
       "      <th>reward_y</th>\n",
       "      <th>...</th>\n",
       "      <th>offer_type</th>\n",
       "      <th>email</th>\n",
       "      <th>mobile</th>\n",
       "      <th>social</th>\n",
       "      <th>web</th>\n",
       "      <th>customer_id</th>\n",
       "      <th>event_offer_completed</th>\n",
       "      <th>event_offer_received</th>\n",
       "      <th>event_offer_viewed</th>\n",
       "      <th>age_groups</th>\n",
       "    </tr>\n",
       "  </thead>\n",
       "  <tbody>\n",
       "    <tr>\n",
       "      <th>0</th>\n",
       "      <td>0</td>\n",
       "      <td>6</td>\n",
       "      <td>0</td>\n",
       "      <td>75</td>\n",
       "      <td>100000.0</td>\n",
       "      <td>2017</td>\n",
       "      <td>5</td>\n",
       "      <td>9</td>\n",
       "      <td>2017-05-09</td>\n",
       "      <td>5.0</td>\n",
       "      <td>...</td>\n",
       "      <td>0</td>\n",
       "      <td>1.0</td>\n",
       "      <td>1.0</td>\n",
       "      <td>0.0</td>\n",
       "      <td>1.0</td>\n",
       "      <td>1</td>\n",
       "      <td>0</td>\n",
       "      <td>1</td>\n",
       "      <td>0</td>\n",
       "      <td>elderly</td>\n",
       "    </tr>\n",
       "    <tr>\n",
       "      <th>1</th>\n",
       "      <td>6</td>\n",
       "      <td>6</td>\n",
       "      <td>0</td>\n",
       "      <td>75</td>\n",
       "      <td>100000.0</td>\n",
       "      <td>2017</td>\n",
       "      <td>5</td>\n",
       "      <td>9</td>\n",
       "      <td>2017-05-09</td>\n",
       "      <td>5.0</td>\n",
       "      <td>...</td>\n",
       "      <td>0</td>\n",
       "      <td>1.0</td>\n",
       "      <td>1.0</td>\n",
       "      <td>0.0</td>\n",
       "      <td>1.0</td>\n",
       "      <td>1</td>\n",
       "      <td>0</td>\n",
       "      <td>0</td>\n",
       "      <td>1</td>\n",
       "      <td>elderly</td>\n",
       "    </tr>\n",
       "    <tr>\n",
       "      <th>2</th>\n",
       "      <td>132</td>\n",
       "      <td>6</td>\n",
       "      <td>0</td>\n",
       "      <td>75</td>\n",
       "      <td>100000.0</td>\n",
       "      <td>2017</td>\n",
       "      <td>5</td>\n",
       "      <td>9</td>\n",
       "      <td>2017-05-09</td>\n",
       "      <td>5.0</td>\n",
       "      <td>...</td>\n",
       "      <td>0</td>\n",
       "      <td>1.0</td>\n",
       "      <td>1.0</td>\n",
       "      <td>0.0</td>\n",
       "      <td>1.0</td>\n",
       "      <td>1</td>\n",
       "      <td>1</td>\n",
       "      <td>0</td>\n",
       "      <td>0</td>\n",
       "      <td>elderly</td>\n",
       "    </tr>\n",
       "    <tr>\n",
       "      <th>3</th>\n",
       "      <td>168</td>\n",
       "      <td>5</td>\n",
       "      <td>0</td>\n",
       "      <td>75</td>\n",
       "      <td>100000.0</td>\n",
       "      <td>2017</td>\n",
       "      <td>5</td>\n",
       "      <td>9</td>\n",
       "      <td>2017-05-09</td>\n",
       "      <td>0.0</td>\n",
       "      <td>...</td>\n",
       "      <td>2</td>\n",
       "      <td>1.0</td>\n",
       "      <td>1.0</td>\n",
       "      <td>1.0</td>\n",
       "      <td>0.0</td>\n",
       "      <td>1</td>\n",
       "      <td>0</td>\n",
       "      <td>1</td>\n",
       "      <td>0</td>\n",
       "      <td>elderly</td>\n",
       "    </tr>\n",
       "    <tr>\n",
       "      <th>4</th>\n",
       "      <td>216</td>\n",
       "      <td>5</td>\n",
       "      <td>0</td>\n",
       "      <td>75</td>\n",
       "      <td>100000.0</td>\n",
       "      <td>2017</td>\n",
       "      <td>5</td>\n",
       "      <td>9</td>\n",
       "      <td>2017-05-09</td>\n",
       "      <td>0.0</td>\n",
       "      <td>...</td>\n",
       "      <td>2</td>\n",
       "      <td>1.0</td>\n",
       "      <td>1.0</td>\n",
       "      <td>1.0</td>\n",
       "      <td>0.0</td>\n",
       "      <td>1</td>\n",
       "      <td>0</td>\n",
       "      <td>0</td>\n",
       "      <td>1</td>\n",
       "      <td>elderly</td>\n",
       "    </tr>\n",
       "  </tbody>\n",
       "</table>\n",
       "<p>5 rows × 22 columns</p>\n",
       "</div>"
      ],
      "text/plain": [
       "   time  offer_id  gender  age    income  member_year  member_month  \\\n",
       "0     0         6       0   75  100000.0         2017             5   \n",
       "1     6         6       0   75  100000.0         2017             5   \n",
       "2   132         6       0   75  100000.0         2017             5   \n",
       "3   168         5       0   75  100000.0         2017             5   \n",
       "4   216         5       0   75  100000.0         2017             5   \n",
       "\n",
       "   member_day member_date  reward_y  ...  offer_type  email  mobile  social  \\\n",
       "0           9  2017-05-09       5.0  ...           0    1.0     1.0     0.0   \n",
       "1           9  2017-05-09       5.0  ...           0    1.0     1.0     0.0   \n",
       "2           9  2017-05-09       5.0  ...           0    1.0     1.0     0.0   \n",
       "3           9  2017-05-09       0.0  ...           2    1.0     1.0     1.0   \n",
       "4           9  2017-05-09       0.0  ...           2    1.0     1.0     1.0   \n",
       "\n",
       "   web  customer_id  event_offer_completed  event_offer_received  \\\n",
       "0  1.0            1                      0                     1   \n",
       "1  1.0            1                      0                     0   \n",
       "2  1.0            1                      1                     0   \n",
       "3  0.0            1                      0                     1   \n",
       "4  0.0            1                      0                     0   \n",
       "\n",
       "   event_offer_viewed  age_groups  \n",
       "0                   0     elderly  \n",
       "1                   1     elderly  \n",
       "2                   0     elderly  \n",
       "3                   0     elderly  \n",
       "4                   1     elderly  \n",
       "\n",
       "[5 rows x 22 columns]"
      ]
     },
     "execution_count": 66,
     "metadata": {},
     "output_type": "execute_result"
    }
   ],
   "source": [
    "offers_df.head()"
   ]
  },
  {
   "cell_type": "code",
   "execution_count": 67,
   "metadata": {},
   "outputs": [],
   "source": [
    "# dropping these columns because we dont want columns with datetime or category datatypes\n",
    "del offers_df['member_date']\n",
    "del offers_df['age_groups']"
   ]
  },
  {
   "cell_type": "code",
   "execution_count": 68,
   "metadata": {
    "scrolled": false
   },
   "outputs": [
    {
     "data": {
      "image/png": "[encoded data removed]",
      "text/plain": [
       "<Figure size 720x576 with 1 Axes>"
      ]
     },
     "metadata": {},
     "output_type": "display_data"
    }
   ],
   "source": [
    "scores = []\n",
    "\n",
    "# plotting the graph for Inertia (Sum of Squared Distances) v/s each K\n",
    "# to find K using elbow method\n",
    "for k in range(1,11):\n",
    "    kmeans = KMeans(k)\n",
    "    \n",
    "    model = kmeans.fit(offers_df)\n",
    "#     print(\"Inertia for k =\", k, \"is\", model.inertia_)\n",
    "    scores.append(model.inertia_)\n",
    "    \n",
    "plt.figure(figsize=(10,8))\n",
    "plt.plot(range(1,11), scores, linestyle='--', marker='o', color='b');\n",
    "plt.xlabel('K', fontsize = 12);\n",
    "plt.ylabel('Inertia', fontsize = 12);\n",
    "plt.title('Inertia vs. K', fontsize = 12);"
   ]
  },
  {
   "cell_type": "code",
   "execution_count": 69,
   "metadata": {
    "scrolled": true
   },
   "outputs": [],
   "source": [
    "# choosing k=2 from the above graph, as it is making an elbow at k=2\n",
    "kmodel = KMeans(2, random_state=42)\n",
    "\n",
    "clust_labels = kmodel.fit_predict(offers_df)\n",
    "cent = kmodel.cluster_centers_"
   ]
  },
  {
   "cell_type": "code",
   "execution_count": 70,
   "metadata": {},
   "outputs": [
    {
     "data": {
      "image/png": "[encoded data removed]",
      "text/plain": [
       "<Figure size 1008x432 with 1 Axes>"
      ]
     },
     "metadata": {},
     "output_type": "display_data"
    }
   ],
   "source": [
    "# Plot graph to find Most Popular Offer Type Income wise for cluster 1\n",
    "\n",
    "plt.figure(figsize=(14, 6))\n",
    "sns.countplot(x=\"income\", hue=\"offer_type\", data=offers_df[clust_labels==0])\n",
    "plt.title('K-Means Clustering')\n",
    "plt.ylabel('Total')\n",
    "plt.xlabel('Income')\n",
    "plt.xticks(rotation = 45)\n",
    "plt.legend(title='Offer Type')\n",
    "plt.show();"
   ]
  },
  {
   "cell_type": "code",
   "execution_count": 71,
   "metadata": {},
   "outputs": [
    {
     "data": {
      "image/png": "[encoded data removed]",
      "text/plain": [
       "<Figure size 1008x432 with 1 Axes>"
      ]
     },
     "metadata": {},
     "output_type": "display_data"
    }
   ],
   "source": [
    "# Plot graph to find Most Popular Offer Type Income wise for cluster 2\n",
    "\n",
    "plt.figure(figsize=(14, 6))\n",
    "sns.countplot(x=\"income\", hue=\"offer_type\", data=offers_df[clust_labels==1])\n",
    "plt.title('K-Means Clustering')\n",
    "plt.ylabel('Total')\n",
    "plt.xlabel('Income')\n",
    "plt.xticks(rotation = 45)\n",
    "plt.legend(title='Offer Type')\n",
    "plt.show();"
   ]
  },
  {
   "cell_type": "markdown",
   "metadata": {},
   "source": [
    "### INSIGHTS:\n",
    "#### 1. For Cluster 1, there is a sudden rise in the histogram at income=64000 showing that more than 8000 customers have went for BOGO and discount offers.\n",
    "Explanation to this is that, I have filled the NaNs with median=64000, so there is this sudden rise at income=64000.\n",
    "#### 2. Compared to BOGO and Discount offer, the informational offers are not much popular.\n",
    "#### 3. There are some cases where Discout Offers are used more than the BOGO offers. Like at income=51000, income=52000 in cluster 1 and income=76000, income=77000 in cluster 2.\n",
    "#### 4. From the above two histograms, it can be inferred that income does not matter in customers' purchasing habits because the Total (y-axis) lies between 0 to 1500 regardless of the customers' income."
   ]
  },
  {
   "cell_type": "code",
   "execution_count": 72,
   "metadata": {},
   "outputs": [
    {
     "name": "stderr",
     "output_type": "stream",
     "text": [
      "/Users/sammitranade/anaconda3/lib/python3.6/site-packages/sklearn/preprocessing/label.py:151: DeprecationWarning: The truth value of an empty array is ambiguous. Returning False, but in future this will result in an error. Use `array.size > 0` to check that an array is not empty.\n",
      "  if diff:\n"
     ]
    },
    {
     "data": {
      "text/plain": [
       "array(['F', 'M', 'NA', 'O'], dtype=object)"
      ]
     },
     "execution_count": 72,
     "metadata": {},
     "output_type": "execute_result"
    }
   ],
   "source": [
    "le3.inverse_transform([0,1,2,3])"
   ]
  },
  {
   "cell_type": "code",
   "execution_count": 73,
   "metadata": {},
   "outputs": [
    {
     "name": "stdout",
     "output_type": "stream",
     "text": [
      "Income Range for Cluster 1: 30000.0 to 70000.0\n",
      "Income Range for Cluster 2: 71000.0 to 120000.0\n"
     ]
    }
   ],
   "source": [
    "print(\"Income Range for Cluster 1:\", offers_df[clust_labels==0]['income'].min(), \n",
    "      \"to\", offers_df[clust_labels==0]['income'].max())\n",
    "\n",
    "print(\"Income Range for Cluster 2:\", offers_df[clust_labels==1]['income'].min(), \n",
    "      \"to\", offers_df[clust_labels==1]['income'].max())"
   ]
  },
  {
   "cell_type": "code",
   "execution_count": 74,
   "metadata": {},
   "outputs": [
    {
     "data": {
      "image/png": "[encoded data removed]",
      "text/plain": [
       "<Figure size 1008x432 with 1 Axes>"
      ]
     },
     "metadata": {},
     "output_type": "display_data"
    }
   ],
   "source": [
    "# Plot graph to find Most Popular Offers Type Gender wise for cluster 1\n",
    "\n",
    "plt.figure(figsize=(14, 6))\n",
    "sns.countplot(x=\"gender\", hue=\"offer_type\", data=offers_df[clust_labels==0])\n",
    "plt.title('K-Means Clustering')\n",
    "plt.ylabel('Total')\n",
    "plt.xlabel('Gender')\n",
    "plt.xticks(rotation = 0)\n",
    "plt.legend(title='Offer Type')\n",
    "plt.show();"
   ]
  },
  {
   "cell_type": "code",
   "execution_count": 75,
   "metadata": {
    "scrolled": false
   },
   "outputs": [
    {
     "data": {
      "image/png": "[encoded data removed]",
      "text/plain": [
       "<Figure size 1008x432 with 1 Axes>"
      ]
     },
     "metadata": {},
     "output_type": "display_data"
    }
   ],
   "source": [
    "# Plot graph to find Most Popular Offers Type Gender wise for cluster 2\n",
    "\n",
    "plt.figure(figsize=(14, 6))\n",
    "sns.countplot(x=\"gender\", hue=\"offer_type\", data=offers_df[clust_labels==1])\n",
    "plt.title('K-Means Clustering')\n",
    "plt.ylabel('Total')\n",
    "plt.xlabel('Gender')\n",
    "plt.xticks(rotation = 0)\n",
    "plt.legend(title='Offer Type')\n",
    "plt.show();"
   ]
  },
  {
   "cell_type": "markdown",
   "metadata": {},
   "source": [
    "### INSIGHTS:\n",
    "#### 1. For Cluster 1, the income ranges from 30000.0 to 70000.0. So it can be inferred that Males with income range 30000.0 to 70000.0 tend to spend more than Females and Other Genders for the BOGO and Discount Offers ( This inference is excluding the unknown and missing values).\n",
    "#### 2. For Cluster 2, the income ranges from 71000.0 to 120000.0. So it can be inferred that Females with income range 71000.0 to 120000.0 tend to spend more than Males and Other Genders for the BOGO and Discount Offers.\n",
    "#### 3. Compared to BOGO and Discount offer, the informational offers are not much popular."
   ]
  },
  {
   "cell_type": "markdown",
   "metadata": {},
   "source": [
    "### Supervised Learning"
   ]
  },
  {
   "cell_type": "markdown",
   "metadata": {},
   "source": [
    "### The target is `offer_type`. This will give us a personalized prediction for each customer to send an offer. "
   ]
  },
  {
   "cell_type": "code",
   "execution_count": 76,
   "metadata": {
    "scrolled": true
   },
   "outputs": [
    {
     "name": "stdout",
     "output_type": "stream",
     "text": [
      "<class 'pandas.core.frame.DataFrame'>\n",
      "RangeIndex: 167581 entries, 0 to 167580\n",
      "Data columns (total 20 columns):\n",
      " #   Column                 Non-Null Count   Dtype  \n",
      "---  ------                 --------------   -----  \n",
      " 0   time                   167581 non-null  int64  \n",
      " 1   offer_id               167581 non-null  int64  \n",
      " 2   gender                 167581 non-null  int64  \n",
      " 3   age                    167581 non-null  int64  \n",
      " 4   income                 167581 non-null  float64\n",
      " 5   member_year            167581 non-null  int64  \n",
      " 6   member_month           167581 non-null  int64  \n",
      " 7   member_day             167581 non-null  int64  \n",
      " 8   reward_y               167581 non-null  float64\n",
      " 9   difficulty             167581 non-null  float64\n",
      " 10  duration               167581 non-null  float64\n",
      " 11  offer_type             167581 non-null  int64  \n",
      " 12  email                  167581 non-null  float64\n",
      " 13  mobile                 167581 non-null  float64\n",
      " 14  social                 167581 non-null  float64\n",
      " 15  web                    167581 non-null  float64\n",
      " 16  customer_id            167581 non-null  int64  \n",
      " 17  event_offer_completed  167581 non-null  uint8  \n",
      " 18  event_offer_received   167581 non-null  uint8  \n",
      " 19  event_offer_viewed     167581 non-null  uint8  \n",
      "dtypes: float64(8), int64(9), uint8(3)\n",
      "memory usage: 22.2 MB\n"
     ]
    }
   ],
   "source": [
    "offers_df.info()"
   ]
  },
  {
   "cell_type": "code",
   "execution_count": 95,
   "metadata": {},
   "outputs": [],
   "source": [
    "# Split the Data into Target and Features variables\n",
    "\n",
    "target = offers_df['offer_type']\n",
    "features = offers_df.drop(['offer_type', 'customer_id', 'offer_id'], axis=1)"
   ]
  },
  {
   "cell_type": "code",
   "execution_count": 96,
   "metadata": {},
   "outputs": [],
   "source": [
    "# split the data into train and test sets\n",
    "\n",
    "X_train, X_test, y_train, y_test = train_test_split(features, target, random_state=42)"
   ]
  },
  {
   "cell_type": "code",
   "execution_count": 97,
   "metadata": {},
   "outputs": [
    {
     "name": "stdout",
     "output_type": "stream",
     "text": [
      "Training Features Shape: (125685, 17)\n",
      "Training Labels Shape: (125685,)\n",
      "Testing Features Shape: (41896, 17)\n",
      "Testing Labels Shape: (41896,)\n"
     ]
    }
   ],
   "source": [
    "print('Training Features Shape:', X_train.shape)\n",
    "print('Training Labels Shape:', y_train.shape)\n",
    "print('Testing Features Shape:', X_test.shape)\n",
    "print('Testing Labels Shape:', y_test.shape)"
   ]
  },
  {
   "cell_type": "code",
   "execution_count": 98,
   "metadata": {},
   "outputs": [],
   "source": [
    "def train_predict(learner, X_train, y_train, X_test, y_test): \n",
    "    '''\n",
    "    INPUT:\n",
    "       - learner: the learning algorithm to be trained and predicted\n",
    "       - X_train: features training set\n",
    "       - y_train: income training set\n",
    "       - X_test: features testing set\n",
    "       - y_test: income testing set\n",
    "    '''\n",
    "    \n",
    "    results = {}\n",
    "    \n",
    "    # Fit the learner to the training data\n",
    "    start = time() # Get start time\n",
    "    learner.fit(X_train, y_train)\n",
    "    end = time() # Get end time\n",
    "    \n",
    "    # Calculate the training time\n",
    "    results['train_time'] = (end - start)\n",
    "        \n",
    "    # Get the predictions on the test set(X_test),\n",
    "    # then get predictions on the first 300 training samples(X_train) using .predict()\n",
    "    start = time() # Get start time\n",
    "    predictions_test = learner.predict(X_test)\n",
    "    # now, since we have get predictionns on the first 300 samples\n",
    "    predictions_train = learner.predict(X_train[:300]) \n",
    "    end = time() # Get end time\n",
    "    \n",
    "    # Calculate the total prediction time\n",
    "    results['pred_time'] = (end - start)\n",
    "            \n",
    "    # Compute accuracy on the first 300 training samples which is y_train[:300]\n",
    "    results['acc_train'] = accuracy_score(y_train[:300], predictions_train)\n",
    "        \n",
    "    # Compute accuracy on test set using accuracy_score()\n",
    "    results['acc_test'] = accuracy_score(y_test, predictions_test)\n",
    "    \n",
    "    # Compute F-score on the the first 300 training samples using fbeta_score()\n",
    "    # average = weighted because multiclass classification\n",
    "    results['f_train'] = fbeta_score(y_train[:300], predictions_train, beta = 0.5, average='weighted')\n",
    "        \n",
    "    # Compute F-score on the test set which is y_test\n",
    "    results['f_test'] = fbeta_score(y_test, predictions_test, beta = 0.5, average='weighted')\n",
    "       \n",
    "    # Success\n",
    "    print(\"{} trained.\".format(learner.__class__.__name__))\n",
    "        \n",
    "    # Return the results\n",
    "    return results"
   ]
  },
  {
   "cell_type": "code",
   "execution_count": 99,
   "metadata": {},
   "outputs": [],
   "source": [
    "# Initialize the models\n",
    "# Initializing random_state to arbitrary number 42 because the seed will be set common for all clfs\n",
    "clf_A = LogisticRegression(random_state=42)\n",
    "clf_B = KNeighborsClassifier()\n",
    "clf_C = GaussianNB()\n",
    "clf_D = RandomForestClassifier(random_state=42)"
   ]
  },
  {
   "cell_type": "code",
   "execution_count": 100,
   "metadata": {
    "scrolled": true
   },
   "outputs": [
    {
     "name": "stdout",
     "output_type": "stream",
     "text": [
      "LogisticRegression\n",
      "LogisticRegression trained.\n",
      "KNeighborsClassifier\n",
      "KNeighborsClassifier trained.\n",
      "GaussianNB\n",
      "GaussianNB trained.\n",
      "RandomForestClassifier\n",
      "RandomForestClassifier trained.\n"
     ]
    }
   ],
   "source": [
    "# Collect results on the learners\n",
    "results = {}\n",
    "for clf in [clf_A, clf_B, clf_C, clf_D]:\n",
    "    clf_name = clf.__class__.__name__\n",
    "    print(clf_name)\n",
    "    results[clf_name] = {}\n",
    "    results[clf_name] = train_predict(clf, X_train, y_train, X_test, y_test)"
   ]
  },
  {
   "cell_type": "code",
   "execution_count": 101,
   "metadata": {
    "scrolled": true
   },
   "outputs": [
    {
     "name": "stdout",
     "output_type": "stream",
     "text": [
      "LogisticRegression\n"
     ]
    },
    {
     "data": {
      "text/html": [
       "<div>\n",
       "<style scoped>\n",
       "    .dataframe tbody tr th:only-of-type {\n",
       "        vertical-align: middle;\n",
       "    }\n",
       "\n",
       "    .dataframe tbody tr th {\n",
       "        vertical-align: top;\n",
       "    }\n",
       "\n",
       "    .dataframe thead th {\n",
       "        text-align: right;\n",
       "    }\n",
       "</style>\n",
       "<table border=\"1\" class=\"dataframe\">\n",
       "  <thead>\n",
       "    <tr style=\"text-align: right;\">\n",
       "      <th></th>\n",
       "      <th>train_time</th>\n",
       "      <th>pred_time</th>\n",
       "      <th>acc_train</th>\n",
       "      <th>acc_test</th>\n",
       "      <th>f_train</th>\n",
       "      <th>f_test</th>\n",
       "    </tr>\n",
       "  </thead>\n",
       "  <tbody>\n",
       "    <tr>\n",
       "      <th>0</th>\n",
       "      <td>3.830473</td>\n",
       "      <td>0.007071</td>\n",
       "      <td>1.0</td>\n",
       "      <td>1.0</td>\n",
       "      <td>1.0</td>\n",
       "      <td>1.0</td>\n",
       "    </tr>\n",
       "  </tbody>\n",
       "</table>\n",
       "</div>"
      ],
      "text/plain": [
       "   train_time  pred_time  acc_train  acc_test  f_train  f_test\n",
       "0    3.830473   0.007071        1.0       1.0      1.0     1.0"
      ]
     },
     "metadata": {},
     "output_type": "display_data"
    },
    {
     "name": "stdout",
     "output_type": "stream",
     "text": [
      "KNeighborsClassifier\n"
     ]
    },
    {
     "data": {
      "text/html": [
       "<div>\n",
       "<style scoped>\n",
       "    .dataframe tbody tr th:only-of-type {\n",
       "        vertical-align: middle;\n",
       "    }\n",
       "\n",
       "    .dataframe tbody tr th {\n",
       "        vertical-align: top;\n",
       "    }\n",
       "\n",
       "    .dataframe thead th {\n",
       "        text-align: right;\n",
       "    }\n",
       "</style>\n",
       "<table border=\"1\" class=\"dataframe\">\n",
       "  <thead>\n",
       "    <tr style=\"text-align: right;\">\n",
       "      <th></th>\n",
       "      <th>train_time</th>\n",
       "      <th>pred_time</th>\n",
       "      <th>acc_train</th>\n",
       "      <th>acc_test</th>\n",
       "      <th>f_train</th>\n",
       "      <th>f_test</th>\n",
       "    </tr>\n",
       "  </thead>\n",
       "  <tbody>\n",
       "    <tr>\n",
       "      <th>0</th>\n",
       "      <td>0.615193</td>\n",
       "      <td>1.941764</td>\n",
       "      <td>0.856667</td>\n",
       "      <td>0.753938</td>\n",
       "      <td>0.859477</td>\n",
       "      <td>0.760623</td>\n",
       "    </tr>\n",
       "  </tbody>\n",
       "</table>\n",
       "</div>"
      ],
      "text/plain": [
       "   train_time  pred_time  acc_train  acc_test   f_train    f_test\n",
       "0    0.615193   1.941764   0.856667  0.753938  0.859477  0.760623"
      ]
     },
     "metadata": {},
     "output_type": "display_data"
    },
    {
     "name": "stdout",
     "output_type": "stream",
     "text": [
      "GaussianNB\n"
     ]
    },
    {
     "data": {
      "text/html": [
       "<div>\n",
       "<style scoped>\n",
       "    .dataframe tbody tr th:only-of-type {\n",
       "        vertical-align: middle;\n",
       "    }\n",
       "\n",
       "    .dataframe tbody tr th {\n",
       "        vertical-align: top;\n",
       "    }\n",
       "\n",
       "    .dataframe thead th {\n",
       "        text-align: right;\n",
       "    }\n",
       "</style>\n",
       "<table border=\"1\" class=\"dataframe\">\n",
       "  <thead>\n",
       "    <tr style=\"text-align: right;\">\n",
       "      <th></th>\n",
       "      <th>train_time</th>\n",
       "      <th>pred_time</th>\n",
       "      <th>acc_train</th>\n",
       "      <th>acc_test</th>\n",
       "      <th>f_train</th>\n",
       "      <th>f_test</th>\n",
       "    </tr>\n",
       "  </thead>\n",
       "  <tbody>\n",
       "    <tr>\n",
       "      <th>0</th>\n",
       "      <td>0.060601</td>\n",
       "      <td>0.015381</td>\n",
       "      <td>1.0</td>\n",
       "      <td>1.0</td>\n",
       "      <td>1.0</td>\n",
       "      <td>1.0</td>\n",
       "    </tr>\n",
       "  </tbody>\n",
       "</table>\n",
       "</div>"
      ],
      "text/plain": [
       "   train_time  pred_time  acc_train  acc_test  f_train  f_test\n",
       "0    0.060601   0.015381        1.0       1.0      1.0     1.0"
      ]
     },
     "metadata": {},
     "output_type": "display_data"
    },
    {
     "name": "stdout",
     "output_type": "stream",
     "text": [
      "RandomForestClassifier\n"
     ]
    },
    {
     "data": {
      "text/html": [
       "<div>\n",
       "<style scoped>\n",
       "    .dataframe tbody tr th:only-of-type {\n",
       "        vertical-align: middle;\n",
       "    }\n",
       "\n",
       "    .dataframe tbody tr th {\n",
       "        vertical-align: top;\n",
       "    }\n",
       "\n",
       "    .dataframe thead th {\n",
       "        text-align: right;\n",
       "    }\n",
       "</style>\n",
       "<table border=\"1\" class=\"dataframe\">\n",
       "  <thead>\n",
       "    <tr style=\"text-align: right;\">\n",
       "      <th></th>\n",
       "      <th>train_time</th>\n",
       "      <th>pred_time</th>\n",
       "      <th>acc_train</th>\n",
       "      <th>acc_test</th>\n",
       "      <th>f_train</th>\n",
       "      <th>f_test</th>\n",
       "    </tr>\n",
       "  </thead>\n",
       "  <tbody>\n",
       "    <tr>\n",
       "      <th>0</th>\n",
       "      <td>0.341185</td>\n",
       "      <td>0.027365</td>\n",
       "      <td>1.0</td>\n",
       "      <td>1.0</td>\n",
       "      <td>1.0</td>\n",
       "      <td>1.0</td>\n",
       "    </tr>\n",
       "  </tbody>\n",
       "</table>\n",
       "</div>"
      ],
      "text/plain": [
       "   train_time  pred_time  acc_train  acc_test  f_train  f_test\n",
       "0    0.341185   0.027365        1.0       1.0      1.0     1.0"
      ]
     },
     "metadata": {},
     "output_type": "display_data"
    }
   ],
   "source": [
    "for i in results.items():\n",
    "    print (i[0])\n",
    "    display(pd.DataFrame(i[1], index=range(1)))"
   ]
  },
  {
   "cell_type": "markdown",
   "metadata": {},
   "source": [
    "#### With classifiers like RandomForest and LogisticRegression there is a chance that these models might overfit and obviously this is the case happening here. \n",
    "#### So I would go with the KNeighbors Classifier to predict the ` offer_type`. Here the training accuracy is very good ~ 85.66% whereas the testing accuracy is good ~ 75.39%"
   ]
  },
  {
   "cell_type": "markdown",
   "metadata": {},
   "source": [
    "## V. Evaluating the Results - Summary"
   ]
  },
  {
   "cell_type": "markdown",
   "metadata": {},
   "source": [
    "#### Suppose we have the following past data of a customer:"
   ]
  },
  {
   "cell_type": "code",
   "execution_count": 103,
   "metadata": {},
   "outputs": [],
   "source": [
    "past_data = [0, 1, 45, 100000.0, 2018, 6, 22, 10.0, 10.0, 5.0, 1.0, 1.0, 1.0, 1.0, 1, 0, 0]"
   ]
  },
  {
   "cell_type": "code",
   "execution_count": 104,
   "metadata": {},
   "outputs": [],
   "source": [
    "clf = KNeighborsClassifier()"
   ]
  },
  {
   "cell_type": "code",
   "execution_count": 105,
   "metadata": {},
   "outputs": [
    {
     "data": {
      "text/plain": [
       "KNeighborsClassifier(algorithm='auto', leaf_size=30, metric='minkowski',\n",
       "           metric_params=None, n_jobs=1, n_neighbors=5, p=2,\n",
       "           weights='uniform')"
      ]
     },
     "execution_count": 105,
     "metadata": {},
     "output_type": "execute_result"
    }
   ],
   "source": [
    "clf.fit(features, target)"
   ]
  },
  {
   "cell_type": "code",
   "execution_count": 106,
   "metadata": {
    "scrolled": true
   },
   "outputs": [
    {
     "data": {
      "text/plain": [
       "0.8799028529487233"
      ]
     },
     "execution_count": 106,
     "metadata": {},
     "output_type": "execute_result"
    }
   ],
   "source": [
    "clf.score(features, target)"
   ]
  },
  {
   "cell_type": "code",
   "execution_count": 107,
   "metadata": {
    "scrolled": true
   },
   "outputs": [],
   "source": [
    "predictions_test = clf.predict([past_data])"
   ]
  },
  {
   "cell_type": "code",
   "execution_count": 108,
   "metadata": {},
   "outputs": [
    {
     "data": {
      "text/plain": [
       "array([0])"
      ]
     },
     "execution_count": 108,
     "metadata": {},
     "output_type": "execute_result"
    }
   ],
   "source": [
    "predictions_test"
   ]
  },
  {
   "cell_type": "markdown",
   "metadata": {},
   "source": [
    "#### This tells us that this customer is most likely to respod to another BOGO offer with probability of around 89%"
   ]
  },
  {
   "cell_type": "markdown",
   "metadata": {},
   "source": [
    "### Summarizing the all the above calculations it can be concluded that:"
   ]
  },
  {
   "cell_type": "markdown",
   "metadata": {},
   "source": [
    "1. People react to different promotions differently.\n",
    "2. Customers are attracted to BOGO and Discount offers more as compared to Informational Offers\n",
    "3. Factors like **Age, Gender, Income** of the *customers* and the **Rewards** which customers receive from each *offer* are the factors which affect the customers reactions positively. \n",
    "4. Also, a predictive model is built to predict which offer a customer is most likely to interact with if we have that customer's past data."
   ]
  },
  {
   "cell_type": "code",
   "execution_count": null,
   "metadata": {},
   "outputs": [],
   "source": []
  }
 ],
 "metadata": {
  "kernelspec": {
   "display_name": "Python 3",
   "language": "python",
   "name": "python3"
  },
  "language_info": {
   "codemirror_mode": {
    "name": "ipython",
    "version": 3
   },
   "file_extension": ".py",
   "mimetype": "text/x-python",
   "name": "python",
   "nbconvert_exporter": "python",
   "pygments_lexer": "ipython3",
   "version": "3.6.8"
  }
 },
 "nbformat": 4,
 "nbformat_minor": 2
}
